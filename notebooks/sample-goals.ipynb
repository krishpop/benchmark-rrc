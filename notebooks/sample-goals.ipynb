{
 "cells": [
  {
   "cell_type": "code",
   "execution_count": 9,
   "id": "52b2cd4b-a959-44f5-ab17-47a843b2c438",
   "metadata": {},
   "outputs": [],
   "source": [
    "import os.path as osp \n",
    "\n",
    "from trifinger_simulation.tasks import move_cube\n",
    "from rrc.env import make_env, cube_env, initializers, termination_fns\n",
    "from rrc_iprl_package.control.control_policy import (\n",
    "    CuboidImpedanceControllerPolicy,\n",
    "    ImpedanceControllerPolicy,\n",
    ")\n",
    "import numpy as np\n",
    "\n",
    "from rrc_iprl_package.control.controller_utils_cube import OBJ_HALF_SIZE"
   ]
  },
  {
   "cell_type": "code",
   "execution_count": 14,
   "id": "814b9919-f978-45c3-b36a-2c0b69f61417",
   "metadata": {},
   "outputs": [
    {
     "data": {
      "text/plain": [
       "{'position': array([ 0.12211779, -0.01977259,  0.08001031]),\n",
       " 'orientation': array([ 0.42404735, -0.80616657,  0.39928876, -0.10415273])}"
      ]
     },
     "execution_count": 14,
     "metadata": {},
     "output_type": "execute_result"
    }
   ],
   "source": [
    "difficulty = 4\n",
    "init = initializers.centered_init(difficulty)\n",
    "goal = init.get_goal()\n",
    "goal.to_dict()"
   ]
  },
  {
   "cell_type": "code",
   "execution_count": 10,
   "id": "a85d6453-011b-4e53-bb9d-1f59718400b4",
   "metadata": {},
   "outputs": [
    {
     "name": "stderr",
     "output_type": "stream",
     "text": [
      "/scr-ssd/ksrini/trifinger_simulation/python/trifinger_simulation/trifinger_platform.py:310: UserWarning: Cameras are not enabled, so images in the camera observation are not initialized.  Create `TriFingerPlatform` with `enable_cameras=True` to get rendered camera images.\n",
      "  \"Cameras are not enabled, so images in the camera observation\"\n"
     ]
    },
    {
     "name": "stdout",
     "output_type": "stream",
     "text": [
      "mode changed: TrajMode.PRE_TRAJ_LOWER to TrajMode.PRE_TRAJ_REACH\n",
      "mode changed: TrajMode.PRE_TRAJ_REACH to TrajMode.REPOSITION\n",
      "Error encounted: Not connected to physics server.. Saving logs and exiting\n"
     ]
    },
    {
     "ename": "error",
     "evalue": "Not connected to physics server.",
     "output_type": "error",
     "traceback": [
      "\u001b[0;31m---------------------------------------------------------------------------\u001b[0m",
      "\u001b[0;31merror\u001b[0m                                     Traceback (most recent call last)",
      "\u001b[0;32m<ipython-input-10-a0c6a341d724>\u001b[0m in \u001b[0;36m<module>\u001b[0;34m\u001b[0m\n\u001b[1;32m     68\u001b[0m     \u001b[0menv\u001b[0m\u001b[0;34m.\u001b[0m\u001b[0msave_custom_logs\u001b[0m\u001b[0;34m(\u001b[0m\u001b[0;34m)\u001b[0m\u001b[0;34m\u001b[0m\u001b[0;34m\u001b[0m\u001b[0m\n\u001b[1;32m     69\u001b[0m     \u001b[0mpolicy\u001b[0m\u001b[0;34m.\u001b[0m\u001b[0msave_log\u001b[0m\u001b[0;34m(\u001b[0m\u001b[0;34m)\u001b[0m\u001b[0;34m\u001b[0m\u001b[0;34m\u001b[0m\u001b[0m\n\u001b[0;32m---> 70\u001b[0;31m     \u001b[0;32mraise\u001b[0m \u001b[0me\u001b[0m\u001b[0;34m\u001b[0m\u001b[0;34m\u001b[0m\u001b[0m\n\u001b[0m",
      "\u001b[0;32m<ipython-input-10-a0c6a341d724>\u001b[0m in \u001b[0;36m<module>\u001b[0;34m\u001b[0m\n\u001b[1;32m     56\u001b[0m             \u001b[0;32mbreak\u001b[0m\u001b[0;34m\u001b[0m\u001b[0;34m\u001b[0m\u001b[0m\n\u001b[1;32m     57\u001b[0m         \u001b[0maction\u001b[0m \u001b[0;34m=\u001b[0m \u001b[0mpolicy\u001b[0m\u001b[0;34m.\u001b[0m\u001b[0mpredict\u001b[0m\u001b[0;34m(\u001b[0m\u001b[0mobservation\u001b[0m\u001b[0;34m)\u001b[0m\u001b[0;34m\u001b[0m\u001b[0;34m\u001b[0m\u001b[0m\n\u001b[0;32m---> 58\u001b[0;31m         \u001b[0mobservation\u001b[0m\u001b[0;34m,\u001b[0m \u001b[0mreward\u001b[0m\u001b[0;34m,\u001b[0m \u001b[0mis_done\u001b[0m\u001b[0;34m,\u001b[0m \u001b[0minfo\u001b[0m \u001b[0;34m=\u001b[0m \u001b[0menv\u001b[0m\u001b[0;34m.\u001b[0m\u001b[0mstep\u001b[0m\u001b[0;34m(\u001b[0m\u001b[0maction\u001b[0m\u001b[0;34m)\u001b[0m\u001b[0;34m\u001b[0m\u001b[0;34m\u001b[0m\u001b[0m\n\u001b[0m\u001b[1;32m     59\u001b[0m         \u001b[0;32mif\u001b[0m \u001b[0mold_mode\u001b[0m \u001b[0;34m!=\u001b[0m \u001b[0mpolicy\u001b[0m\u001b[0;34m.\u001b[0m\u001b[0mmode\u001b[0m\u001b[0;34m:\u001b[0m\u001b[0;34m\u001b[0m\u001b[0;34m\u001b[0m\u001b[0m\n\u001b[1;32m     60\u001b[0m             \u001b[0mprint\u001b[0m\u001b[0;34m(\u001b[0m\u001b[0;34m\"mode changed: {} to {}\"\u001b[0m\u001b[0;34m.\u001b[0m\u001b[0mformat\u001b[0m\u001b[0;34m(\u001b[0m\u001b[0mold_mode\u001b[0m\u001b[0;34m,\u001b[0m \u001b[0mpolicy\u001b[0m\u001b[0;34m.\u001b[0m\u001b[0mmode\u001b[0m\u001b[0;34m)\u001b[0m\u001b[0;34m)\u001b[0m\u001b[0;34m\u001b[0m\u001b[0;34m\u001b[0m\u001b[0m\n",
      "\u001b[0;32m/scr-ssd/ksrini/benchmark-rrc/rrc/env/cube_env.py\u001b[0m in \u001b[0;36mstep\u001b[0;34m(self, action)\u001b[0m\n\u001b[1;32m   1515\u001b[0m             \u001b[0;32mraise\u001b[0m \u001b[0mValueError\u001b[0m\u001b[0;34m(\u001b[0m\u001b[0;34m\"Given action is not contained in the action space.\"\u001b[0m\u001b[0;34m)\u001b[0m\u001b[0;34m\u001b[0m\u001b[0;34m\u001b[0m\u001b[0m\n\u001b[1;32m   1516\u001b[0m \u001b[0;34m\u001b[0m\u001b[0m\n\u001b[0;32m-> 1517\u001b[0;31m         \u001b[0;32mreturn\u001b[0m \u001b[0mself\u001b[0m\u001b[0;34m.\u001b[0m\u001b[0m_step\u001b[0m\u001b[0;34m(\u001b[0m\u001b[0maction\u001b[0m\u001b[0;34m)\u001b[0m\u001b[0;34m\u001b[0m\u001b[0;34m\u001b[0m\u001b[0m\n\u001b[0m\u001b[1;32m   1518\u001b[0m \u001b[0;34m\u001b[0m\u001b[0m\n\u001b[1;32m   1519\u001b[0m     \u001b[0;32mdef\u001b[0m \u001b[0m_step\u001b[0m\u001b[0;34m(\u001b[0m\u001b[0mself\u001b[0m\u001b[0;34m,\u001b[0m \u001b[0maction\u001b[0m\u001b[0;34m)\u001b[0m\u001b[0;34m:\u001b[0m\u001b[0;34m\u001b[0m\u001b[0;34m\u001b[0m\u001b[0m\n",
      "\u001b[0;32m/scr-ssd/ksrini/benchmark-rrc/rrc/env/cube_env.py\u001b[0m in \u001b[0;36m_step\u001b[0;34m(self, action)\u001b[0m\n\u001b[1;32m   1590\u001b[0m                 \u001b[0mobservation\u001b[0m\u001b[0;34m[\u001b[0m\u001b[0;34m\"achieved_goal\"\u001b[0m\u001b[0;34m]\u001b[0m\u001b[0;34m[\u001b[0m\u001b[0;34m\"orientation\"\u001b[0m\u001b[0;34m]\u001b[0m\u001b[0;34m,\u001b[0m\u001b[0;34m\u001b[0m\u001b[0;34m\u001b[0m\u001b[0m\n\u001b[1;32m   1591\u001b[0m                 \u001b[0mobservation\u001b[0m\u001b[0;34m[\u001b[0m\u001b[0;34m\"desired_goal\"\u001b[0m\u001b[0;34m]\u001b[0m\u001b[0;34m[\u001b[0m\u001b[0;34m\"position\"\u001b[0m\u001b[0;34m]\u001b[0m\u001b[0;34m,\u001b[0m\u001b[0;34m\u001b[0m\u001b[0;34m\u001b[0m\u001b[0m\n\u001b[0;32m-> 1592\u001b[0;31m                 \u001b[0mobservation\u001b[0m\u001b[0;34m[\u001b[0m\u001b[0;34m\"desired_goal\"\u001b[0m\u001b[0;34m]\u001b[0m\u001b[0;34m[\u001b[0m\u001b[0;34m\"orientation\"\u001b[0m\u001b[0;34m]\u001b[0m\u001b[0;34m,\u001b[0m\u001b[0;34m\u001b[0m\u001b[0;34m\u001b[0m\u001b[0m\n\u001b[0m\u001b[1;32m   1593\u001b[0m             )\n\u001b[1;32m   1594\u001b[0m             \u001b[0mtime\u001b[0m\u001b[0;34m.\u001b[0m\u001b[0msleep\u001b[0m\u001b[0;34m(\u001b[0m\u001b[0;36m0.01\u001b[0m\u001b[0;34m)\u001b[0m\u001b[0;34m\u001b[0m\u001b[0;34m\u001b[0m\u001b[0m\n",
      "\u001b[0;32m/scr-ssd/ksrini/benchmark-rrc/rrc/env/viz.py\u001b[0m in \u001b[0;36mupdate_cube_orientation\u001b[0;34m(self, pos, ori, goal_pos, goal_ori)\u001b[0m\n\u001b[1;32m    367\u001b[0m             \u001b[0mself\u001b[0m\u001b[0;34m.\u001b[0m\u001b[0mcube_viz\u001b[0m \u001b[0;34m=\u001b[0m \u001b[0mVisualCubeOrientation\u001b[0m\u001b[0;34m(\u001b[0m\u001b[0mpos\u001b[0m\u001b[0;34m,\u001b[0m \u001b[0mori\u001b[0m\u001b[0;34m)\u001b[0m\u001b[0;34m\u001b[0m\u001b[0;34m\u001b[0m\u001b[0m\n\u001b[1;32m    368\u001b[0m         \u001b[0;32melse\u001b[0m\u001b[0;34m:\u001b[0m\u001b[0;34m\u001b[0m\u001b[0;34m\u001b[0m\u001b[0m\n\u001b[0;32m--> 369\u001b[0;31m             \u001b[0mself\u001b[0m\u001b[0;34m.\u001b[0m\u001b[0mcube_viz\u001b[0m\u001b[0;34m.\u001b[0m\u001b[0mset_state\u001b[0m\u001b[0;34m(\u001b[0m\u001b[0mpos\u001b[0m\u001b[0;34m,\u001b[0m \u001b[0mori\u001b[0m\u001b[0;34m)\u001b[0m\u001b[0;34m\u001b[0m\u001b[0;34m\u001b[0m\u001b[0m\n\u001b[0m\u001b[1;32m    370\u001b[0m \u001b[0;34m\u001b[0m\u001b[0m\n\u001b[1;32m    371\u001b[0m     \u001b[0;32mdef\u001b[0m \u001b[0mupdate_tip_force_markers\u001b[0m\u001b[0;34m(\u001b[0m\u001b[0mself\u001b[0m\u001b[0;34m,\u001b[0m \u001b[0mobs\u001b[0m\u001b[0;34m,\u001b[0m \u001b[0mtip_wrenches\u001b[0m\u001b[0;34m,\u001b[0m \u001b[0mforce\u001b[0m\u001b[0;34m)\u001b[0m\u001b[0;34m:\u001b[0m\u001b[0;34m\u001b[0m\u001b[0;34m\u001b[0m\u001b[0m\n",
      "\u001b[0;32m/scr-ssd/ksrini/benchmark-rrc/rrc/env/viz.py\u001b[0m in \u001b[0;36mset_state\u001b[0;34m(self, position, orientation)\u001b[0m\n\u001b[1;32m    262\u001b[0m             \u001b[0morientation\u001b[0m \u001b[0;34m=\u001b[0m \u001b[0mrotation\u001b[0m\u001b[0;34m.\u001b[0m\u001b[0mas_quat\u001b[0m\u001b[0;34m(\u001b[0m\u001b[0;34m)\u001b[0m\u001b[0;34m\u001b[0m\u001b[0;34m\u001b[0m\u001b[0m\n\u001b[1;32m    263\u001b[0m             \u001b[0mbias\u001b[0m \u001b[0;34m=\u001b[0m \u001b[0mrotation\u001b[0m\u001b[0;34m.\u001b[0m\u001b[0mapply\u001b[0m\u001b[0;34m(\u001b[0m\u001b[0mself\u001b[0m\u001b[0;34m.\u001b[0m\u001b[0mz_axis\u001b[0m\u001b[0;34m)\u001b[0m \u001b[0;34m*\u001b[0m \u001b[0mself\u001b[0m\u001b[0;34m.\u001b[0m\u001b[0mcube_halfwidth\u001b[0m\u001b[0;34m\u001b[0m\u001b[0;34m\u001b[0m\u001b[0m\n\u001b[0;32m--> 264\u001b[0;31m             \u001b[0mmarker\u001b[0m\u001b[0;34m.\u001b[0m\u001b[0mset_state\u001b[0m\u001b[0;34m(\u001b[0m\u001b[0mposition\u001b[0m\u001b[0;34m=\u001b[0m\u001b[0mposition\u001b[0m \u001b[0;34m+\u001b[0m \u001b[0mbias\u001b[0m\u001b[0;34m,\u001b[0m \u001b[0morientation\u001b[0m\u001b[0;34m=\u001b[0m\u001b[0morientation\u001b[0m\u001b[0;34m)\u001b[0m\u001b[0;34m\u001b[0m\u001b[0;34m\u001b[0m\u001b[0m\n\u001b[0m\u001b[1;32m    265\u001b[0m \u001b[0;34m\u001b[0m\u001b[0m\n\u001b[1;32m    266\u001b[0m \u001b[0;34m\u001b[0m\u001b[0m\n",
      "\u001b[0;32m/scr-ssd/ksrini/benchmark-rrc/rrc/env/viz.py\u001b[0m in \u001b[0;36mset_state\u001b[0;34m(self, position, orientation)\u001b[0m\n\u001b[1;32m    296\u001b[0m             \u001b[0morientation\u001b[0m\u001b[0;34m:\u001b[0m \u001b[0mOrientation\u001b[0m \u001b[0;32mas\u001b[0m \u001b[0mquaternion\u001b[0m \u001b[0;34m(\u001b[0m\u001b[0mx\u001b[0m\u001b[0;34m,\u001b[0m \u001b[0my\u001b[0m\u001b[0;34m,\u001b[0m \u001b[0mz\u001b[0m\u001b[0;34m,\u001b[0m \u001b[0mw\u001b[0m\u001b[0;34m)\u001b[0m\u001b[0;34m\u001b[0m\u001b[0;34m\u001b[0m\u001b[0m\n\u001b[1;32m    297\u001b[0m         \"\"\"\n\u001b[0;32m--> 298\u001b[0;31m         \u001b[0mp\u001b[0m\u001b[0;34m.\u001b[0m\u001b[0mresetBasePositionAndOrientation\u001b[0m\u001b[0;34m(\u001b[0m\u001b[0mself\u001b[0m\u001b[0;34m.\u001b[0m\u001b[0mbody_id\u001b[0m\u001b[0;34m,\u001b[0m \u001b[0mposition\u001b[0m\u001b[0;34m,\u001b[0m \u001b[0morientation\u001b[0m\u001b[0;34m)\u001b[0m\u001b[0;34m\u001b[0m\u001b[0;34m\u001b[0m\u001b[0m\n\u001b[0m\u001b[1;32m    299\u001b[0m \u001b[0;34m\u001b[0m\u001b[0m\n\u001b[1;32m    300\u001b[0m \u001b[0;34m\u001b[0m\u001b[0m\n",
      "\u001b[0;31merror\u001b[0m: Not connected to physics server."
     ]
    }
   ],
   "source": [
    "FRAMESKIP = 1\n",
    "MAX_STEPS = 120 * 1000 / 4\n",
    "EP_LEN = None\n",
    "\n",
    "difficulty = 1\n",
    "init = initializers.centered_init(difficulty)\n",
    "goal_pose = init.get_goal()\n",
    "initial_pose = move_cube.sample_goal(-1)\n",
    "object_shape = 'cube'\n",
    "ep_len = EP_LEN or MAX_STEPS\n",
    "if difficulty == 4:\n",
    "    term_fn = termination_fns.stay_close_to_goal_level_4\n",
    "else:\n",
    "    term_fn = termination_fns.stay_close_to_goal\n",
    "path = \"./output\" if osp.exists(\"./output\") else None\n",
    "    \n",
    "env = cube_env.RobotCubeEnv(\n",
    "    goal_pose.to_dict(),\n",
    "    difficulty,\n",
    "    action_type=cube_env.ActionType.TORQUE,\n",
    "    initializer=init,\n",
    "    frameskip=FRAMESKIP,\n",
    "    episode_length=ep_len,\n",
    "    termination_fn=term_fn,\n",
    "    sim=True,\n",
    "    visualization=True,\n",
    "    path=path,\n",
    "    return_timestamp=True,\n",
    "    object_shape=object_shape,\n",
    ")\n",
    "goal = goal_pose.to_dict()\n",
    "goal['position'] = goal['position'] - np.array([0, 0, OBJ_HALF_SIZE])\n",
    "policy = ImpedanceControllerPolicy(\n",
    "    env.action_space,\n",
    "    initial_pose,\n",
    "    goal,\n",
    "    difficulty=difficulty,\n",
    "    save_path=path,\n",
    "    ycb=(object_shape == \"ycb\"),\n",
    ")\n",
    "\n",
    "observation = env.reset()\n",
    "policy.set_init_goal(\n",
    "    move_cube.Pose.from_dict(observation[\"achieved_goal\"]),\n",
    "    move_cube.Pose.from_dict(observation[\"desired_goal\"]),\n",
    ")\n",
    "policy.reset_policy(observation, env.platform)\n",
    "\n",
    "accumulated_reward = 0\n",
    "is_done = False\n",
    "old_mode = policy.mode\n",
    "steps_so_far = 0\n",
    "try:\n",
    "    while not is_done:\n",
    "        if MAX_STEPS is not None and steps_so_far == MAX_STEPS:\n",
    "            break\n",
    "        action = policy.predict(observation)\n",
    "        observation, reward, is_done, info = env.step(action)\n",
    "        if old_mode != policy.mode:\n",
    "            print(\"mode changed: {} to {}\".format(old_mode, policy.mode))\n",
    "            old_mode = policy.mode\n",
    "        # print(\"reward:\", reward)\n",
    "        accumulated_reward += reward\n",
    "        steps_so_far += env.frameskip\n",
    "\n",
    "except Exception as e:\n",
    "    print(\"Error encounted: {}. Saving logs and exiting\".format(e))\n",
    "    env.save_custom_logs()\n",
    "    policy.save_log()\n",
    "    raise e"
   ]
  }
 ],
 "metadata": {
  "kernelspec": {
   "display_name": "rrc",
   "language": "python",
   "name": "rrc"
  },
  "language_info": {
   "codemirror_mode": {
    "name": "ipython",
    "version": 3
   },
   "file_extension": ".py",
   "mimetype": "text/x-python",
   "name": "python",
   "nbconvert_exporter": "python",
   "pygments_lexer": "ipython3",
   "version": "3.6.9"
  }
 },
 "nbformat": 4,
 "nbformat_minor": 5
}
