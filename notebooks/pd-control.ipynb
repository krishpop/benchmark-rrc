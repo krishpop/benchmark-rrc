{
 "cells": [
  {
   "cell_type": "code",
   "execution_count": 1,
   "metadata": {},
   "outputs": [
    {
     "name": "stderr",
     "output_type": "stream",
     "text": [
      "/scr1/.pyenv/versions/miniconda3-latest/envs/rrc/lib/python3.6/site-packages/gym/logger.py:30: UserWarning: \u001b[33mWARN: Box bound precision lowered by casting to float32\u001b[0m\n",
      "  warnings.warn(colorize('%s: %s'%('WARN', msg % args), 'yellow'))\n"
     ]
    }
   ],
   "source": [
    "%matplotlib inline\n",
    "\n",
    "import numpy as np\n",
    "import matplotlib.pyplot as plt\n",
    "import gym\n",
    "\n",
    "from rrc.env import cube_env, initializers, reward_fns, wrappers, make_env\n",
    "from rrc_iprl_package.envs import rrc_utils\n",
    "from rrc_iprl_package.control import controller_utils_cube as c_utils\n",
    "from rrc_iprl_package.control.control_policy import ImpedanceControllerPolicy\n",
    "from trifinger_simulation.tasks.move_cube import Pose"
   ]
  },
  {
   "cell_type": "markdown",
   "metadata": {},
   "source": [
    "## Residual Impedance Control"
   ]
  },
  {
   "cell_type": "code",
   "execution_count": 2,
   "metadata": {},
   "outputs": [],
   "source": [
    "import os\n",
    "import wandb\n",
    "import pandas as pd\n",
    "import numpy as np\n",
    "import os.path as osp\n",
    "from trifinger_simulation.tasks.move_cube import Pose\n",
    "from stable_baselines3.common.monitor import Monitor\n",
    "from stable_baselines3.common.torch_layers import CombinedExtractor\n",
    "from stable_baselines3.common.preprocessing import get_flattened_obs_dim, is_image_space\n",
    "from stable_baselines3 import HerReplayBuffer, SAC, TD3, PPO\n",
    "from stable_baselines3.common.vec_env import DummyVecEnv, VecNormalize\n",
    "import torch.nn as nn\n",
    "import json\n",
    "\n",
    "\n",
    "class HERCombinedExtractor(CombinedExtractor):\n",
    "    \"\"\"\n",
    "    HERCombinedExtractor is a combined extractor which only extracts pre-specified observation_keys to include in\n",
    "    the observation, while retaining them at the environment level so that they may still be stored in the replay buffer\n",
    "    \"\"\"\n",
    "\n",
    "    def __init__(self, observation_space: gym.spaces.Dict, cnn_output_dim: int = 256, observation_keys: list = []):\n",
    "        # TODO we do not know features-dim here before going over all the items, so put something there. This is dirty!\n",
    "        super(CombinedExtractor, self).__init__(observation_space, features_dim=1)\n",
    "\n",
    "        extractors = {}\n",
    "\n",
    "        total_concat_size = 0\n",
    "        for key in observation_keys:\n",
    "            subspace = observation_space.spaces[key]\n",
    "            # The observation key is a vector, flatten it if needed\n",
    "            extractors[key] = nn.Flatten()\n",
    "            total_concat_size += get_flattened_obs_dim(subspace)\n",
    "\n",
    "        self.extractors = nn.ModuleDict(extractors)\n",
    "\n",
    "        # Update the features dim manually\n",
    "        self._features_dim = total_concat_size\n",
    "        \n",
    "\n",
    "def make_vec_env(run):\n",
    "    if run.config.get('contact'):\n",
    "        env_cls = cube_env.ContactForceCubeEnv\n",
    "    else:\n",
    "        env_cls = run.config.get('env_cls')\n",
    "\n",
    "    env_fn = make_env.env_fn_generator(diff=run.config['diff'], visualization=True, save_freq=1, initializer=run.config['init'],\n",
    "                                       reward_fn=run.config['rew_fn'], residual=run.config.get('residual', False), env_cls=env_cls)\n",
    "    env = DummyVecEnv([env_fn])\n",
    "    return env\n",
    "\n",
    "def make_model(ep_len, lr, exp_dir=None, env=None, use_goal=True,\n",
    "               use_sde=False, log_std_init=-3, load_path=None,\n",
    "               residual=False):\n",
    "    if use_goal:\n",
    "        obs_keys = ['desired_goal', 'achieved_goal', 'observation']\n",
    "    else:\n",
    "        obs_keys = ['observation']\n",
    "\n",
    "    policy_kwargs = dict(\n",
    "                    log_std_init=log_std_init,\n",
    "                    features_extractor_class=HERCombinedExtractor,\n",
    "                    features_extractor_kwargs=dict(observation_keys=obs_keys))\n",
    "    if use_sde:\n",
    "        sde_kwargs = dict(\n",
    "                use_sde=True,\n",
    "                use_sde_at_warmup=False,\n",
    "                sde_sample_freq=64)\n",
    "    else:\n",
    "        sde_kwargs = {}\n",
    "\n",
    "    rb_kwargs = dict(n_sampled_goal=4,\n",
    "                     goal_selection_strategy='future',\n",
    "                     online_sampling=False,\n",
    "                     max_episode_length=ep_len)\n",
    "\n",
    "    model = SAC('MultiInputPolicy', env,\n",
    "                # tensorboard_log=exp_dir,\n",
    "                replay_buffer_class=HerReplayBuffer,\n",
    "                # Parameters for HER\n",
    "                replay_buffer_kwargs=rb_kwargs,\n",
    "                policy_kwargs=policy_kwargs,\n",
    "                verbose=1, buffer_size=int(1e6),\n",
    "                learning_starts=20000,\n",
    "                learning_rate=lr,\n",
    "                gamma=0.99, batch_size=256, residual=residual, **sde_kwargs)\n",
    "    if load_path is not None:\n",
    "        if osp.isdir(load_path):\n",
    "            load_path = osp.join(load_path, 'best_model.zip')\n",
    "        model.load(load_path, env)\n",
    "    return model"
   ]
  },
  {
   "cell_type": "code",
   "execution_count": 3,
   "metadata": {},
   "outputs": [
    {
     "name": "stdout",
     "output_type": "stream",
     "text": [
      "Using cuda device\n"
     ]
    }
   ],
   "source": [
    "api = wandb.Api()\n",
    "run_id = '9sp6xgul'\n",
    "run = api.run('krshna/cvxrl/{}'.format(run_id))\n",
    "\n",
    "# Create DummyVecEnv\n",
    "env = make_vec_env(run)\n",
    "\n",
    "# Create model\n",
    "use_goal = not(run.config.get('no_goal'))\n",
    "use_sde = not(run.config.get('no_sde'))\n",
    "load_path = None # osp.join(get_save_path(run), '2e+05-steps.zip')\n",
    "model = make_model(run.config.get('ep_len'), run.config['lr'], use_goal=use_goal, use_sde=use_sde, env=env,\n",
    "                   load_path=load_path)"
   ]
  },
  {
   "cell_type": "code",
   "execution_count": 5,
   "metadata": {},
   "outputs": [
    {
     "name": "stderr",
     "output_type": "stream",
     "text": [
      "/scr1/.pyenv/versions/miniconda3-latest/envs/rrc/lib/python3.6/site-packages/gym/logger.py:30: UserWarning: \u001b[33mWARN: Box bound precision lowered by casting to float32\u001b[0m\n",
      "  warnings.warn(colorize('%s: %s'%('WARN', msg % args), 'yellow'))\n",
      "/scr-ssd/ksrini/trifinger_simulation/python/trifinger_simulation/trifinger_platform.py:301: UserWarning: Cameras are not enabled, so images in the camera observation are not initialized.  Create `TriFingerPlatform` with `enable_cameras=True` to get rendered camera images.\n",
      "  \"Cameras are not enabled, so images in the camera observation\"\n"
     ]
    },
    {
     "name": "stdout",
     "output_type": "stream",
     "text": [
      "\n",
      "******************************************************************************\n",
      "This program contains Ipopt, a library for large-scale nonlinear optimization.\n",
      " Ipopt is released as open source code under the Eclipse Public License (EPL).\n",
      "         For more information visit http://projects.coin-or.org/Ipopt\n",
      "******************************************************************************\n",
      "\n"
     ]
    }
   ],
   "source": [
    "env_fn = rrc_utils.build_env_fn(residual=True, goal_relative=True, goal_env=True, flatten=False)\n",
    "env = env_fn()\n",
    "obs = env.reset()\n",
    "# model.predict()"
   ]
  },
  {
   "cell_type": "code",
   "execution_count": 6,
   "metadata": {},
   "outputs": [
    {
     "data": {
      "text/plain": [
       "{'robot_position': array([ 0.26655893,  0.75593713, -1.20290453,  0.42945231,  0.38568846,\n",
       "        -1.16772889,  0.13347648,  0.5122267 , -1.20629846]),\n",
       " 'robot_velocity': array([ 0.00070305,  0.00272229, -0.00520968, -0.00190879, -0.00380348,\n",
       "         0.00825653, -0.00222574, -0.00320084,  0.00815314]),\n",
       " 'robot_tip_positions': array([[ 0.01229308,  0.08997428,  0.013966  ],\n",
       "        [ 0.01305903,  0.03041354,  0.01511717],\n",
       "        [-0.04588382,  0.02965632,  0.01665059]]),\n",
       " 'object_position': array([-0.01673793,  0.05868907,  0.03461131]),\n",
       " 'object_orientation': array([ 0.01717042, -0.00700465, -0.36796655,  0.92965409]),\n",
       " 'goal_object_position': array([0.    , 0.    , 0.0325]),\n",
       " 'goal_object_orientation': array([0, 0, 0, 1]),\n",
       " 'robot_torque': array([ 0.0963928 , -0.10065354, -0.17995342,  0.04433803, -0.03157673,\n",
       "        -0.05317606, -0.14141271, -0.22600639, -0.13714873]),\n",
       " 'desired_torque': array([ 0.09644904, -0.10043576, -0.18016181,  0.04418533, -0.03188101,\n",
       "        -0.0528458 , -0.14159077, -0.22626246, -0.1368226 ]),\n",
       " 'robot_tip_forces': array([0.27985757, 0.13685682, 0.30796518])}"
      ]
     },
     "execution_count": 6,
     "metadata": {},
     "output_type": "execute_result"
    }
   ],
   "source": [
    "obs"
   ]
  },
  {
   "cell_type": "code",
   "execution_count": null,
   "metadata": {},
   "outputs": [],
   "source": []
  },
  {
   "cell_type": "markdown",
   "metadata": {},
   "source": [
    "## Residual PD Control"
   ]
  },
  {
   "cell_type": "code",
   "execution_count": 16,
   "metadata": {},
   "outputs": [],
   "source": [
    "class ResidualPDWrapper(gym.Wrapper):\n",
    "    def __init__(self, env, Kp=np.eye(3)*np.array([100,100,1]), Kd=1, include_ac=False):\n",
    "        assert env.relative_goal, 'ResidualPDWrapper requires env.relative_goal=True'\n",
    "        assert not env.clip_action, 'ResidualPDWrapper requires env.clip_action=False'\n",
    "        super(ResidualPDWrapper, self).__init__(env)\n",
    "        self.Kp = Kp\n",
    "        self.Kd = Kd\n",
    "        self._obs = self._prev_obs = None\n",
    "        self.include_ac = include_ac\n",
    "        if self.include_ac:\n",
    "            obs_dict = self.env.observation_space.spaces\n",
    "            obs_dict = {k: obs_dict['observation'][k] for k in obs_dict['observation']}\n",
    "            obs_dict['pd_action'] = gym.spaces.Box(low=-np.ones(3), high=np.ones(3))\n",
    "            self.observation_space.spaces['observation'] = obs_dict\n",
    "    \n",
    "    def reset(self):\n",
    "        obs = super(ResidualPDWrapper, self).reset()\n",
    "        self._prev_obs = None\n",
    "        self._obs = obs\n",
    "        if self.include_ac:\n",
    "            obs['observation']['pd_action'] = self.pd_action(self._obs, self._prev_obs)\n",
    "        return obs\n",
    "    \n",
    "    def step(self, action):\n",
    "        pd_action = self.pd_action(self._obs, self._prev_obs)\n",
    "        ac = action + pd_action\n",
    "        self._prev_obs = self._obs\n",
    "        obs, r, d, i = self.env.step(ac)\n",
    "        self._obs = obs\n",
    "        if self.include_ac:\n",
    "            obs['observation']['pd_action'] = self.pd_action(self._obs, self._prev_obs)\n",
    "        return obs, r, d, i\n",
    "    \n",
    "    def pd_action(self, observation, prev_observation):\n",
    "        if observation is None:\n",
    "            return np.zeros(6)\n",
    "        if observation['observation'].get('pd_action') is not None:\n",
    "            return observation['observation']['pd_action']\n",
    "        err = observation['observation']['position']\n",
    "        u = -self.Kp @ err\n",
    "        if prev_observation is None:\n",
    "            return np.concatenate([u, np.zeros(3)], axis=-1)\n",
    "        err_diff = observation['observation']['position'] - prev_observation['observation']['position']\n",
    "        u -= self.Kd * err_diff / self.env.time_step_s\n",
    "        return np.concatenate([u, np.zeros(3)], axis=-1)"
   ]
  },
  {
   "cell_type": "code",
   "execution_count": 21,
   "metadata": {},
   "outputs": [
    {
     "data": {
      "text/plain": [
       "({'position': array([0.11082089, 0.00033355, 0.03254781]),\n",
       "  'orientation': array([ 7.16961035e-04,  7.69760742e-05, -1.64135309e-01,  9.86437570e-01])},\n",
       " {'position': array([0.    , 0.    , 0.0325]),\n",
       "  'orientation': array([0, 0, 0, 1])})"
      ]
     },
     "execution_count": 21,
     "metadata": {},
     "output_type": "execute_result"
    }
   ],
   "source": [
    "obs[0]['achieved_goal'], obs[0]['desired_goal']"
   ]
  },
  {
   "cell_type": "code",
   "execution_count": 35,
   "metadata": {},
   "outputs": [],
   "source": [
    "start = {'position': np.array([0.08533178, 0.01042374, 0.0325452 ]),\n",
    "         'orientation': np.array([-7.23055100e-04, -1.77149433e-04,  3.76762749e-01,  9.26309493e-01])}\n",
    "goal = {'position': np.array([0.    , 0.    , 0.0325]),\n",
    "        'orientation': np.array([0, 0, 0, 1])}\n",
    "\n",
    "fixed_initializer = FixedInitializer(start, goal)"
   ]
  },
  {
   "cell_type": "code",
   "execution_count": 22,
   "metadata": {},
   "outputs": [],
   "source": [
    "start2 = {'position': np.array([0.11082089, 0.00033355, 0.03254781]),\n",
    "  'orientation': np.array([ 7.16961035e-04,  7.69760742e-05, -1.64135309e-01,  9.86437570e-01])}\n",
    "fixed_initializer = FixedInitializer(start2, goal)"
   ]
  },
  {
   "cell_type": "code",
   "execution_count": 36,
   "metadata": {},
   "outputs": [
    {
     "name": "stderr",
     "output_type": "stream",
     "text": [
      "/scr1/.pyenv/versions/miniconda3-latest/envs/rrc/lib/python3.6/site-packages/gym/logger.py:30: UserWarning: \u001b[33mWARN: Box bound precision lowered by casting to float32\u001b[0m\n",
      "  warnings.warn(colorize('%s: %s'%('WARN', msg % args), 'yellow'))\n"
     ]
    }
   ],
   "source": [
    "env = wrappers.PyBulletClearGUIWrapper(cube_env.CubeEnv(None, goal_difficulty=1, relative_goal=True, episode_length=500,\n",
    "                                                        initializer=fixed_initializer, reward_fn=reward_fns.training_reward2, visualization=True))\n",
    "\n",
    "env = ResidualPDWrapper(env, include_ac=True)"
   ]
  },
  {
   "cell_type": "code",
   "execution_count": 24,
   "metadata": {},
   "outputs": [],
   "source": [
    "import pybullet as p"
   ]
  },
  {
   "cell_type": "code",
   "execution_count": 13,
   "metadata": {},
   "outputs": [],
   "source": [
    "import time"
   ]
  },
  {
   "cell_type": "code",
   "execution_count": 40,
   "metadata": {},
   "outputs": [],
   "source": [
    "o = env.reset()\n",
    "obs = [o]\n",
    "d = False\n",
    "rew = []\n",
    "time.sleep(3)\n",
    "while not d:\n",
    "    o, r, d, i = env.step(np.zeros(6))\n",
    "    rew.append(r)\n",
    "    obs.append(o)"
   ]
  },
  {
   "cell_type": "code",
   "execution_count": 8,
   "metadata": {},
   "outputs": [
    {
     "data": {
      "text/plain": [
       "array([-1.49021473e+01, -1.92621076e+00, -9.55098842e-04,  0.00000000e+00,\n",
       "        0.00000000e+00,  0.00000000e+00])"
      ]
     },
     "execution_count": 8,
     "metadata": {},
     "output_type": "execute_result"
    }
   ],
   "source": [
    "env.pd_action(env._obs, env._prev_obs)"
   ]
  },
  {
   "cell_type": "code",
   "execution_count": 41,
   "metadata": {},
   "outputs": [
    {
     "data": {
      "image/png": "[encoded data removed]",
      "text/plain": [
       "<Figure size 432x288 with 1 Axes>"
      ]
     },
     "metadata": {
      "needs_background": "light"
     },
     "output_type": "display_data"
    }
   ],
   "source": [
    "plt.suptitle('Position (achieved vs desired) - Residual')\n",
    "plt.plot([o['achieved_goal']['position'][0] for o in obs], label='acheived-x')\n",
    "plt.plot([o['desired_goal']['position'][0] for o in obs], label='desired-x')\n",
    "plt.plot([o['achieved_goal']['position'][1] for o in obs], label='acheived-y')\n",
    "plt.plot([o['desired_goal']['position'][1] for o in obs], label='desired-y')\n",
    "plt.ylim([-0.05, 0.125])\n",
    "# plt.plot([o['achieved_goal']['position'][2] for o in obs], label='acheived-z')\n",
    "# plt.plot([o['desired_goal']['position'][2] for o in obs], label='desired-z')\n",
    "plt.legend()\n",
    "plt.show()"
   ]
  },
  {
   "cell_type": "code",
   "execution_count": 8,
   "metadata": {},
   "outputs": [
    {
     "data": {
      "image/png": "[encoded data removed]",
      "text/plain": [
       "<Figure size 432x288 with 1 Axes>"
      ]
     },
     "metadata": {
      "needs_background": "light"
     },
     "output_type": "display_data"
    }
   ],
   "source": [
    "plt.suptitle('Position (achieved vs desired) - Residual')\n",
    "plt.plot([o['achieved_goal']['position'][0] for o in obs], label='acheived-x')\n",
    "plt.plot([o['desired_goal']['position'][0] for o in obs], label='desired-x')\n",
    "plt.plot([o['achieved_goal']['position'][1] for o in obs], label='acheived-y')\n",
    "plt.plot([o['desired_goal']['position'][1] for o in obs], label='desired-y')\n",
    "plt.ylim([-0.05, 0.125])\n",
    "# plt.plot([o['achieved_goal']['position'][2] for o in obs], label='acheived-z')\n",
    "# plt.plot([o['desired_goal']['position'][2] for o in obs], label='desired-z')\n",
    "plt.legend()\n",
    "plt.show()"
   ]
  },
  {
   "cell_type": "code",
   "execution_count": 51,
   "metadata": {},
   "outputs": [
    {
     "data": {
      "image/png": "[encoded data removed]",
      "text/plain": [
       "<Figure size 432x288 with 1 Axes>"
      ]
     },
     "metadata": {
      "needs_background": "light"
     },
     "output_type": "display_data"
    }
   ],
   "source": [
    "plt.suptitle('Position (achieved vs desired)')\n",
    "plt.plot([o['achieved_goal']['position'][0] for o in obs], label='acheived')\n",
    "plt.plot([o['desired_goal']['position'][0] for o in obs], label='desired')\n",
    "plt.ylim([-0.05, 0.125])\n",
    "# plt.plot([o['achieved_goal']['position'][1] for o in obs], label='acheived-y')\n",
    "# plt.plot([o['desired_goal']['position'][1] for o in obs], label='desired-y')\n",
    "# plt.plot([o['achieved_goal']['position'][2] for o in obs], label='acheived-z')\n",
    "# plt.plot([o['desired_goal']['position'][2] for o in obs], label='desired-z')\n",
    "\n",
    "plt.legend()\n",
    "plt.show()"
   ]
  },
  {
   "cell_type": "code",
   "execution_count": 52,
   "metadata": {},
   "outputs": [
    {
     "data": {
      "text/plain": [
       "(-0.05, 0.125)"
      ]
     },
     "execution_count": 52,
     "metadata": {},
     "output_type": "execute_result"
    },
    {
     "data": {
      "image/png": "[encoded data removed]",
      "text/plain": [
       "<Figure size 432x288 with 1 Axes>"
      ]
     },
     "metadata": {
      "needs_background": "light"
     },
     "output_type": "display_data"
    }
   ],
   "source": [
    "plt.plot([o['achieved_goal']['orientation'][0] for o in obs], label='acheived')\n",
    "plt.plot([o['desired_goal']['orientation'][0] for o in obs], label='desired')\n",
    "plt.ylim([-0.05, 0.125])"
   ]
  },
  {
   "cell_type": "code",
   "execution_count": 39,
   "metadata": {},
   "outputs": [
    {
     "name": "stderr",
     "output_type": "stream",
     "text": [
      "/scr1/.pyenv/versions/miniconda3-latest/envs/rrc/lib/python3.6/site-packages/gym/logger.py:30: UserWarning: \u001b[33mWARN: Box bound precision lowered by casting to float32\u001b[0m\n",
      "  warnings.warn(colorize('%s: %s'%('WARN', msg % args), 'yellow'))\n"
     ]
    }
   ],
   "source": [
    "start = initializers.centered_init(3).get_initial_state()\n",
    "goal = initializers.centered_init(3).get_goal()\n",
    "\n",
    "fixed_initializer = FixedInitializer(start, goal)\n",
    "env = cube_env.CubeEnv(None, goal_difficulty=1, relative_goal=True, episode_length=1000,\n",
    "                       reward_fn=reward_fns.training_reward2, initializer=fixed_initializer)"
   ]
  },
  {
   "cell_type": "code",
   "execution_count": null,
   "metadata": {},
   "outputs": [],
   "source": [
    "o = env.reset()\n",
    "obs = [o]\n",
    "d = False\n",
    "rew = []\n",
    "while not d:\n",
    "    u = -Kp @ o['observation']['position'] #- Kd * (o['observation']['position'] - obs[-1]['observation']['position']) / env.time_step_s\n",
    "    u = np.concatenate([u, np.zeros(3)], axis=-1)\n",
    "    o, r, d, i = env.step(u)\n",
    "    rew.append(r)\n",
    "    obs.append(o)"
   ]
  }
 ],
 "metadata": {
  "kernelspec": {
   "display_name": "Python 3",
   "language": "python",
   "name": "python3"
  },
  "language_info": {
   "codemirror_mode": {
    "name": "ipython",
    "version": 3
   },
   "file_extension": ".py",
   "mimetype": "text/x-python",
   "name": "python",
   "nbconvert_exporter": "python",
   "pygments_lexer": "ipython3",
   "version": "3.6.9"
  }
 },
 "nbformat": 4,
 "nbformat_minor": 4
}
