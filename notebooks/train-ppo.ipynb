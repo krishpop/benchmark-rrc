{
 "cells": [
  {
   "cell_type": "code",
   "execution_count": 1,
   "metadata": {},
   "outputs": [
    {
     "name": "stderr",
     "output_type": "stream",
     "text": [
      "/scr1/.pyenv/versions/miniconda3-latest/envs/rrc/lib/python3.6/site-packages/gym/logger.py:30: UserWarning: \u001b[33mWARN: Box bound precision lowered by casting to float32\u001b[0m\n",
      "  warnings.warn(colorize('%s: %s'%('WARN', msg % args), 'yellow'))\n"
     ]
    }
   ],
   "source": [
    "import numpy as np\n",
    "import os.path as osp\n",
    "from rrc.envs import cube_env, initializers\n",
    "from gym.wrappers import FlattenObservation, FilterObservation\n",
    "\n",
    "from spinup.utils import test_policy\n",
    "from spinup.user_config import DEFAULT_DATA_DIR\n",
    "from xvfbwrapper import Xvfb\n",
    "from rrc.envs.wrappers import PyBulletClearGUIWrapper"
   ]
  },
  {
   "cell_type": "code",
   "execution_count": 3,
   "metadata": {},
   "outputs": [
    {
     "name": "stdout",
     "output_type": "stream",
     "text": [
      "\n",
      "\n",
      "Loading from /scr-ssd/ksrini/spinningup/data/2021-06-03_ppo-rrc-diff4_irandom/2021-06-03_12-03-09-ppo-rrc-diff4_irandom_s0/pyt_save/model499.pt.\n",
      "\n",
      "\n"
     ]
    }
   ],
   "source": [
    "# env, pol = test_policy.load_policy_and_env('/scr-ssd/ksrini/spinningup/data/2021-06-03_ppo-rrc-acclip/2021-06-03_10-59-54-ppo-rrc-acclip_s0')\n",
    "env, pol = test_policy.load_policy_and_env('/scr-ssd/ksrini/spinningup/data/2021-06-03_ppo-rrc-diff4_irandom/2021-06-03_12-03-09-ppo-rrc-diff4_irandom_s0')"
   ]
  },
  {
   "cell_type": "code",
   "execution_count": 4,
   "metadata": {},
   "outputs": [
    {
     "name": "stderr",
     "output_type": "stream",
     "text": [
      "/scr1/.pyenv/versions/miniconda3-latest/envs/rrc/lib/python3.6/site-packages/gym/logger.py:30: UserWarning: \u001b[33mWARN: Box bound precision lowered by casting to float32\u001b[0m\n",
      "  warnings.warn(colorize('%s: %s'%('WARN', msg % args), 'yellow'))\n"
     ]
    }
   ],
   "source": [
    "xvfb = Xvfb()\n",
    "xvfb.start()\n",
    "\n",
    "goal_pose = None # {'position': np.array([0,0,0.0325]), 'orientation': np.array([0,0,0,1])}\n",
    "env = cube_env.CubeEnv(goal_pose, 1, initializer=env.initializer, episode_length=500,\n",
    "                       visualization=True, save_mp4=True, save_dir='./videos')\n",
    "env = PyBulletClearGUIWrapper(env)\n",
    "env = FlattenObservation(FilterObservation(env, filter_keys=['observation', 'desired_goal']))\n",
    "obs = env.reset()\n",
    "d = False\n",
    "while not d:\n",
    "    obs, r, d, i = env.step(pol(obs))\n",
    "obs = env.reset()\n",
    "xvfb.stop()"
   ]
  },
  {
   "cell_type": "code",
   "execution_count": 9,
   "metadata": {},
   "outputs": [
    {
     "data": {
      "text/plain": [
       "(array([ 0.0000000e+00,  0.0000000e+00,  0.0000000e+00,  1.0000000e+00,\n",
       "         0.0000000e+00,  0.0000000e+00,  3.2499999e-02, -9.8478017e-07,\n",
       "        -1.3081907e-05, -5.7593757e-01,  8.1749368e-01,  6.4295933e-02,\n",
       "         7.0091151e-02,  1.3454532e-02, -6.0875551e-05,  4.8068559e-05,\n",
       "         4.1382122e-01, -1.4876003e-03, -2.2157433e-03, -1.1878055e-05],\n",
       "       dtype=float32),\n",
       " -0.21716879579162512,\n",
       " False,\n",
       " {'difficulty': 1})"
      ]
     },
     "execution_count": 9,
     "metadata": {},
     "output_type": "execute_result"
    }
   ],
   "source": [
    "obs, r, d, i = env.step(pol(obs))"
   ]
  },
  {
   "cell_type": "code",
   "execution_count": null,
   "metadata": {},
   "outputs": [
    {
     "name": "stderr",
     "output_type": "stream",
     "text": [
      "/scr1/.pyenv/versions/miniconda3-latest/envs/rrc/lib/python3.6/site-packages/gym/logger.py:30: UserWarning: \u001b[33mWARN: Box bound precision lowered by casting to float32\u001b[0m\n",
      "  warnings.warn(colorize('%s: %s'%('WARN', msg % args), 'yellow'))\n"
     ]
    }
   ],
   "source": [
    "xvfb = Xvfb()\n",
    "xvfb.start()\n",
    "\n",
    "goal_pose = {'position': np.array([0,0,0.0325]), 'orientation': np.array([0,0,0,1])}\n",
    "env = cube_env.CubeEnv(goal_pose, 1, initializer=initializers.CenteredInitializer(1), episode_length=500,\n",
    "                       visualization=True, save_mp4=True, save_dir='./videos')\n",
    "env = FlattenObservation(FilterObservation(env, filter_keys=['observation', 'desired_goal']))\n",
    "obs = env.reset()\n",
    "d = False\n",
    "while not d:\n",
    "    obs, r, d, i = env.step(pol(obs))"
   ]
  },
  {
   "cell_type": "code",
   "execution_count": 3,
   "metadata": {},
   "outputs": [
    {
     "name": "stderr",
     "output_type": "stream",
     "text": [
      "/scr1/.pyenv/versions/miniconda3-latest/envs/rrc/lib/python3.6/site-packages/gym/logger.py:30: UserWarning: \u001b[33mWARN: Box bound precision lowered by casting to float32\u001b[0m\n",
      "  warnings.warn(colorize('%s: %s'%('WARN', msg % args), 'yellow'))\n"
     ]
    }
   ],
   "source": [
    "goal_pose = {'position': np.array([0,0,0.0325]), 'orientation': np.array([0,0,0,1])}\n",
    "env = cube_env.CubeEnv(goal_pose, 1, initializer=initializers.CenteredInitializer(1), episode_length=1000)\n",
    "env = FlattenObservation(FilterObservation(env, filter_keys=['observation', 'desired_goal']))"
   ]
  },
  {
   "cell_type": "code",
   "execution_count": 4,
   "metadata": {},
   "outputs": [],
   "source": [
    "obs = env.reset()"
   ]
  },
  {
   "cell_type": "code",
   "execution_count": 12,
   "metadata": {},
   "outputs": [],
   "source": [
    "d = False\n",
    "while not d:\n",
    "    o,r,d,i = env.step(env.action_space.sample()*.15)"
   ]
  },
  {
   "cell_type": "code",
   "execution_count": 13,
   "metadata": {},
   "outputs": [
    {
     "data": {
      "text/plain": [
       "array([ 0.0000000e+00,  0.0000000e+00,  0.0000000e+00,  1.0000000e+00,\n",
       "        0.0000000e+00,  0.0000000e+00,  3.2499999e-02,  1.4490881e-06,\n",
       "       -1.6389138e-06,  7.1549618e-01,  6.9861662e-01, -5.0409850e-02,\n",
       "       -3.3456851e-02,  1.1799225e-02, -8.4705953e-06, -3.2415748e-05,\n",
       "        4.4980615e-01,  1.0924968e-03, -5.4077373e-05, -1.4260825e-04],\n",
       "      dtype=float32)"
      ]
     },
     "execution_count": 13,
     "metadata": {},
     "output_type": "execute_result"
    }
   ],
   "source": [
    "env.reset()"
   ]
  }
 ],
 "metadata": {
  "kernelspec": {
   "display_name": "Python 3",
   "language": "python",
   "name": "python3"
  },
  "language_info": {
   "codemirror_mode": {
    "name": "ipython",
    "version": 3
   },
   "file_extension": ".py",
   "mimetype": "text/x-python",
   "name": "python",
   "nbconvert_exporter": "python",
   "pygments_lexer": "ipython3",
   "version": "3.6.9"
  }
 },
 "nbformat": 4,
 "nbformat_minor": 4
}
