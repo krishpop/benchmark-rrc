{
 "cells": [
  {
   "cell_type": "code",
   "execution_count": 14,
   "id": "82043bc5-5dcb-4903-b331-93ce2e30c066",
   "metadata": {},
   "outputs": [],
   "source": [
    "%matplotlib inline\n",
    "import matplotlib.pyplot as plt\n",
    "import numpy as np"
   ]
  },
  {
   "cell_type": "code",
   "execution_count": 10,
   "id": "03ca3769-2fe1-450d-84f9-b3f4e0775c53",
   "metadata": {},
   "outputs": [],
   "source": [
    "from rrc.env import make_env\n",
    "from trifinger_simulation.tasks.move_cube import Pose\n",
    "from rrc_iprl_package.control import controller_utils_cube as c_utils\n",
    "\n",
    "env = make_env.env_fn_generator(\n",
    "    diff=1, env_cls=\"robot_wrench_env\", visualization=False, use_traj_opt=False,\n",
    "    initializer='dumb_init', flatten_goal=False\n",
    ")()"
   ]
  },
  {
   "cell_type": "code",
   "execution_count": 11,
   "id": "55ef86c6-ec0b-4c63-b015-0032c0a403d4",
   "metadata": {},
   "outputs": [],
   "source": [
    "obs = env.reset()"
   ]
  },
  {
   "cell_type": "code",
   "execution_count": 12,
   "id": "a9ad1b3d-e174-48ef-b767-fc8d16580b1a",
   "metadata": {},
   "outputs": [],
   "source": [
    "obj_pose = Pose.from_dict(env.prev_observation[\"achieved_goal\"])\n",
    "des_cp_pos = np.array([x[0] for x in env.get_cp_of_list(env.cp_params, obj_pose, env.use_actual_cp)])"
   ]
  },
  {
   "cell_type": "code",
   "execution_count": 13,
   "id": "a12d4c80-c3f7-4e9e-9d52-a6a9229c4392",
   "metadata": {
    "tags": []
   },
   "outputs": [],
   "source": [
    "tip_positions = [] \n",
    "des_tip_positions = []\n",
    "n_episodes = 50\n",
    "for i in range(n_episodes):\n",
    "    obs = env.reset()\n",
    "    obj_pose = Pose.from_dict(env.prev_observation[\"achieved_goal\"])\n",
    "    cp_list = env.get_cp_wf_list(env.cp_params, obj_pose)\n",
    "    des_tip_pos = np.asarray([cp[0] for cp in cp_list])\n",
    "    current_tip_pos = env.prev_observation['observation']['tip_positions']\n",
    "    if np.linalg.norm(current_tip_pos - des_tip_pos) > 0.05:\n",
    "        env.execute_grasp()\n",
    "    des_tip_pos = np.asarray([cp[0] for cp in cp_list])\n",
    "    current_tip_pos = env.prev_observation['observation']['tip_positions']        \n",
    "    tip_positions.append(current_tip_pos)\n",
    "    des_tip_positions.append(des_tip_pos)"
   ]
  },
  {
   "cell_type": "code",
   "execution_count": 3,
   "id": "dc9daee2-63bb-47f1-a446-6dd8431246ec",
   "metadata": {},
   "outputs": [
    {
     "data": {
      "text/plain": [
       "array([[ 0.04404254, -0.12709241,  0.03389202],\n",
       "       [-0.08708513, -0.08474551,  0.03380303],\n",
       "       [ 0.02099654,  0.00797261,  0.04130636]])"
      ]
     },
     "execution_count": 3,
     "metadata": {},
     "output_type": "execute_result"
    }
   ],
   "source": [
    "# obs = env.reset()\n",
    "# current_tip_pos = env.prev_observation['observation']['tip_positions']\n",
    "obj_pose = Pose.from_dict(env.prev_observation['achieved_goal'])\n",
    "c_utils.get_of_from_wf(current_tip_pos, obj_pose)"
   ]
  },
  {
   "cell_type": "code",
   "execution_count": 8,
   "id": "90ffa96a-2193-406f-a627-eaf514cddb51",
   "metadata": {},
   "outputs": [
    {
     "data": {
      "text/plain": [
       "(array([5., 0., 0., 0., 0., 0., 0., 0., 0., 1.]),\n",
       " array([0.01453273, 0.0253115 , 0.03609027, 0.04686904, 0.05764781,\n",
       "        0.06842658, 0.07920535, 0.08998412, 0.10076289, 0.11154166,\n",
       "        0.12232043]),\n",
       " <BarContainer object of 10 artists>)"
      ]
     },
     "execution_count": 8,
     "metadata": {},
     "output_type": "execute_result"
    },
    {
     "data": {
      "image/png": "[encoded data removed]",
      "text/plain": [
       "<Figure size 432x288 with 1 Axes>"
      ]
     },
     "metadata": {
      "needs_background": "light"
     },
     "output_type": "display_data"
    }
   ],
   "source": [
    "plt.hist([np.linalg.norm(tp - dtp) for tp, dtp in zip(tip_positions, des_tip_positions)])"
   ]
  },
  {
   "cell_type": "code",
   "execution_count": 3,
   "id": "d845fd01-395a-4a3d-aa8d-88bc10f05be5",
   "metadata": {},
   "outputs": [
    {
     "data": {
      "text/plain": [
       "(array([12.,  4., 13.,  6.,  1.,  0.,  1.,  5.,  3.,  5.]),\n",
       " array([0.01438022, 0.03261799, 0.05085577, 0.06909355, 0.08733133,\n",
       "        0.10556911, 0.12380688, 0.14204466, 0.16028244, 0.17852022,\n",
       "        0.196758  ]),\n",
       " <BarContainer object of 10 artists>)"
      ]
     },
     "execution_count": 3,
     "metadata": {},
     "output_type": "execute_result"
    },
    {
     "data": {
      "image/png": "[encoded data removed]",
      "text/plain": [
       "<Figure size 432x288 with 1 Axes>"
      ]
     },
     "metadata": {
      "needs_background": "light"
     },
     "output_type": "display_data"
    }
   ],
   "source": [
    "plt.hist([np.linalg.norm(tp - dtp) for tp, dtp in zip(tip_positions, des_tip_positions)])"
   ]
  },
  {
   "cell_type": "code",
   "execution_count": 6,
   "id": "5808f1c6-be17-4f0f-8aae-fec957458df1",
   "metadata": {},
   "outputs": [
    {
     "data": {
      "text/plain": [
       "(array([13.,  0.,  9., 11.,  3.,  1.,  0.,  2.,  4.,  7.]),\n",
       " array([0.01488869, 0.03052265, 0.04615661, 0.06179057, 0.07742453,\n",
       "        0.09305849, 0.10869245, 0.12432641, 0.13996037, 0.15559432,\n",
       "        0.17122828]),\n",
       " <BarContainer object of 10 artists>)"
      ]
     },
     "execution_count": 6,
     "metadata": {},
     "output_type": "execute_result"
    },
    {
     "data": {
      "image/png": "[encoded data removed]",
      "text/plain": [
       "<Figure size 432x288 with 1 Axes>"
      ]
     },
     "metadata": {
      "needs_background": "light"
     },
     "output_type": "display_data"
    }
   ],
   "source": [
    "plt.hist([np.linalg.norm(tp - dtp) for tp, dtp in zip(tip_positions, des_tip_positions)])"
   ]
  },
  {
   "cell_type": "code",
   "execution_count": 4,
   "id": "e2fe9a9f-7622-4f33-8bec-79857d5e8eab",
   "metadata": {},
   "outputs": [
    {
     "data": {
      "text/plain": [
       "(array([20.,  1.,  8.,  8.,  0.,  0.,  1.,  5.,  4.,  3.]),\n",
       " array([0.01478285, 0.03154379, 0.04830473, 0.06506568, 0.08182662,\n",
       "        0.09858756, 0.1153485 , 0.13210945, 0.14887039, 0.16563133,\n",
       "        0.18239227]),\n",
       " <BarContainer object of 10 artists>)"
      ]
     },
     "execution_count": 4,
     "metadata": {},
     "output_type": "execute_result"
    },
    {
     "data": {
      "image/png": "[encoded data removed]",
      "text/plain": [
       "<Figure size 432x288 with 1 Axes>"
      ]
     },
     "metadata": {
      "needs_background": "light"
     },
     "output_type": "display_data"
    }
   ],
   "source": [
    "plt.hist([np.linalg.norm(tp - dtp) for tp, dtp in zip(tip_positions, des_tip_positions)])"
   ]
  }
 ],
 "metadata": {
  "kernelspec": {
   "display_name": "Python 3 (ipykernel)",
   "language": "python",
   "name": "python3"
  },
  "language_info": {
   "codemirror_mode": {
    "name": "ipython",
    "version": 3
   },
   "file_extension": ".py",
   "mimetype": "text/x-python",
   "name": "python",
   "nbconvert_exporter": "python",
   "pygments_lexer": "ipython3",
   "version": "3.8.10"
  }
 },
 "nbformat": 4,
 "nbformat_minor": 5
}
