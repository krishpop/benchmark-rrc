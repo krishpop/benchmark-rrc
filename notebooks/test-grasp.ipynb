{
 "cells": [
  {
   "cell_type": "code",
   "execution_count": 1,
   "id": "82043bc5-5dcb-4903-b331-93ce2e30c066",
   "metadata": {},
   "outputs": [],
   "source": [
    "%matplotlib inline\n",
    "import matplotlib.pyplot as plt\n",
    "import numpy as np"
   ]
  },
  {
   "cell_type": "code",
   "execution_count": 2,
   "id": "682bd35d-216c-4336-bb48-dcd9e9d0de2a",
   "metadata": {},
   "outputs": [],
   "source": [
    "import pybullet as p"
   ]
  },
  {
   "cell_type": "code",
   "execution_count": 3,
   "id": "03ca3769-2fe1-450d-84f9-b3f4e0775c53",
   "metadata": {},
   "outputs": [
    {
     "name": "stdout",
     "output_type": "stream",
     "text": [
      "IsaacGym not installed, FoP torch methods disabled\n"
     ]
    },
    {
     "name": "stderr",
     "output_type": "stream",
     "text": [
      "/scr1/.pyenv/versions/miniconda3-latest/envs/rrc/lib/python3.6/site-packages/gym/logger.py:30: UserWarning: \u001b[33mWARN: Box bound precision lowered by casting to float32\u001b[0m\n",
      "  warnings.warn(colorize('%s: %s'%('WARN', msg % args), 'yellow'))\n",
      "/scr1/.pyenv/versions/miniconda3-latest/envs/rrc/lib/python3.6/site-packages/gym/logger.py:30: UserWarning: \u001b[33mWARN: Box bound precision lowered by casting to float32\u001b[0m\n",
      "  warnings.warn(colorize('%s: %s'%('WARN', msg % args), 'yellow'))\n"
     ]
    }
   ],
   "source": [
    "from rrc.env import make_env\n",
    "from trifinger_simulation.tasks.move_cube import Pose\n",
    "from rrc_iprl_package.control import controller_utils_cube as c_utils\n",
    "\n",
    "env = make_env.env_fn_generator(\n",
    "    diff=1, env_cls=\"robot_wrench_env\", visualization=False, use_traj_opt=False,\n",
    "    initializer='dumb_init', flatten_goal=False\n",
    ")()"
   ]
  },
  {
   "cell_type": "code",
   "execution_count": 5,
   "id": "55ef86c6-ec0b-4c63-b015-0032c0a403d4",
   "metadata": {},
   "outputs": [
    {
     "name": "stderr",
     "output_type": "stream",
     "text": [
      "/scr-ssd/ksrini/trifinger_simulation/python/trifinger_simulation/trifinger_platform.py:303: UserWarning: Cameras are not enabled, so images in the camera observation are not initialized.  Create `TriFingerPlatform` with `enable_cameras=True` to get rendered camera images.\n",
      "  \"Cameras are not enabled, so images in the camera observation\"\n"
     ]
    }
   ],
   "source": [
    "obs = env.reset()"
   ]
  },
  {
   "cell_type": "code",
   "execution_count": 8,
   "id": "e1f09887-7444-4fc9-bc62-93bdf130fc62",
   "metadata": {},
   "outputs": [
    {
     "data": {
      "text/plain": [
       "0"
      ]
     },
     "execution_count": 8,
     "metadata": {},
     "output_type": "execute_result"
    }
   ],
   "source": [
    "env.platform.simfinger._pybullet_client_id"
   ]
  },
  {
   "cell_type": "code",
   "execution_count": 7,
   "id": "de3500fe-c324-476d-928f-c102efb46f3f",
   "metadata": {},
   "outputs": [
    {
     "data": {
      "text/plain": [
       "[14, 24, 34]"
      ]
     },
     "execution_count": 7,
     "metadata": {},
     "output_type": "execute_result"
    }
   ],
   "source": [
    "env.pinocchio_utils.tip_link_ids"
   ]
  },
  {
   "cell_type": "code",
   "execution_count": null,
   "id": "fbfe64e3-1490-4e4f-8b48-750e8c88f9a4",
   "metadata": {},
   "outputs": [],
   "source": [
    "J , _ =  p.calculateJacobian(14,\n",
    "                             env.prev_observation['observation']['position'], \n",
    "                             env.prev_observation['observation']['velocity'],\n",
    "                             f)\n",
    "J "
   ]
  },
  {
   "cell_type": "code",
   "execution_count": 5,
   "id": "c743f06d-5536-42f0-b52f-ea4f9db502e3",
   "metadata": {},
   "outputs": [
    {
     "data": {
      "text/plain": [
       "array([[-2.51349316e-01, -2.39507205e-03, -3.79584341e-02,\n",
       "         0.00000000e+00,  0.00000000e+00,  0.00000000e+00,\n",
       "         0.00000000e+00,  0.00000000e+00,  0.00000000e+00],\n",
       "       [ 0.00000000e+00,  2.36694838e-01,  1.16816609e-01,\n",
       "         0.00000000e+00,  0.00000000e+00,  0.00000000e+00,\n",
       "         0.00000000e+00,  0.00000000e+00,  0.00000000e+00],\n",
       "       [-2.29251639e-04, -6.72268254e-03, -1.06544813e-01,\n",
       "         0.00000000e+00,  0.00000000e+00,  0.00000000e+00,\n",
       "         0.00000000e+00,  0.00000000e+00,  0.00000000e+00],\n",
       "       [ 0.00000000e+00,  9.42002865e-01,  9.42002865e-01,\n",
       "         0.00000000e+00,  0.00000000e+00,  0.00000000e+00,\n",
       "         0.00000000e+00,  0.00000000e+00,  0.00000000e+00],\n",
       "       [ 1.00000000e+00,  0.00000000e+00,  0.00000000e+00,\n",
       "         0.00000000e+00,  0.00000000e+00,  0.00000000e+00,\n",
       "         0.00000000e+00,  0.00000000e+00,  0.00000000e+00],\n",
       "       [ 0.00000000e+00, -3.35604830e-01, -3.35604830e-01,\n",
       "         0.00000000e+00,  0.00000000e+00,  0.00000000e+00,\n",
       "         0.00000000e+00,  0.00000000e+00,  0.00000000e+00]])"
      ]
     },
     "execution_count": 5,
     "metadata": {},
     "output_type": "execute_result"
    }
   ],
   "source": [
    "env.pinocchio_utils.get_tip_link_jacobian(0, env.prev_observation['observation']['position'])"
   ]
  },
  {
   "cell_type": "code",
   "execution_count": 4,
   "id": "a9ad1b3d-e174-48ef-b767-fc8d16580b1a",
   "metadata": {},
   "outputs": [],
   "source": [
    "obj_pose = Pose.from_dict(env.prev_observation[\"achieved_goal\"])\n",
    "des_cp_pos = np.array([x[0] for x in env.get_cp_of_list(env.cp_params, obj_pose, env.use_actual_cp)])"
   ]
  },
  {
   "cell_type": "code",
   "execution_count": 5,
   "id": "2a35eaf2-d4d3-4d31-8dff-e730ac11f88b",
   "metadata": {},
   "outputs": [],
   "source": [
    "policy = lambda obs: np.array([0,0,1., 0,0,0])"
   ]
  },
  {
   "cell_type": "code",
   "execution_count": 6,
   "id": "7ff393c6-43bf-45c7-84a1-c6711208aa08",
   "metadata": {},
   "outputs": [],
   "source": [
    "while not d:\n",
    "    delta_x = policy(obs).copy()\n",
    "    obs, r, d, i = env.step(policy(obs))"
   ]
  },
  {
   "cell_type": "code",
   "execution_count": null,
   "id": "f6a63834-ee78-4388-8a10-dffb4e137782",
   "metadata": {
    "tags": []
   },
   "outputs": [],
   "source": [
    "tip_positions = [] \n",
    "des_tip_positions = []\n",
    "n_episodes = 50\n",
    "for i in range(n_episodes):\n",
    "    obs = env.reset()\n",
    "    obj_pose = Pose.from_dict(env.prev_observation[\"achieved_goal\"])\n",
    "    cp_list = env.get_cp_wf_list(env.cp_params, obj_pose)\n",
    "    des_tip_pos = np.asarray([cp[0] for cp in cp_list])\n",
    "    current_tip_pos = env.prev_observation['observation']['tip_positions']\n",
    "    if np.linalg.norm(current_tip_pos - des_tip_pos) > 0.05:\n",
    "        env.execute_grasp()\n",
    "    des_tip_pos = np.asarray([cp[0] for cp in cp_list])\n",
    "    current_tip_pos = env.prev_observation['observation']['tip_positions']        \n",
    "    tip_positions.append(current_tip_pos)\n",
    "    des_tip_positions.append(des_tip_pos)"
   ]
  },
  {
   "cell_type": "code",
   "execution_count": 8,
   "id": "0a95dcfb-064f-48e9-bcb9-d73ba6c5d242",
   "metadata": {},
   "outputs": [],
   "source": [
    "d0, d1 = np.load('../tests/test.npz'), np.load('../tests/test_ki_0.110.npz')"
   ]
  },
  {
   "cell_type": "code",
   "execution_count": 11,
   "id": "da28d2e5-8378-46c5-ba92-4e51e38ea52c",
   "metadata": {},
   "outputs": [
    {
     "data": {
      "image/png": "[encoded data removed]",
      "text/plain": [
       "<Figure size 432x288 with 1 Axes>"
      ]
     },
     "metadata": {
      "needs_background": "light"
     },
     "output_type": "display_data"
    }
   ],
   "source": [
    "_, k = d0['ft_wf_traj'].shape\n",
    "for i in range(k):\n",
    "    plt.plot(np.linspace(0, 1, len(d0['ft_wf_traj'])), d0['ft_wf_traj'][:, i])"
   ]
  },
  {
   "cell_type": "code",
   "execution_count": 3,
   "id": "dc9daee2-63bb-47f1-a446-6dd8431246ec",
   "metadata": {},
   "outputs": [
    {
     "data": {
      "text/plain": [
       "array([[ 0.04404254, -0.12709241,  0.03389202],\n",
       "       [-0.08708513, -0.08474551,  0.03380303],\n",
       "       [ 0.02099654,  0.00797261,  0.04130636]])"
      ]
     },
     "execution_count": 3,
     "metadata": {},
     "output_type": "execute_result"
    }
   ],
   "source": [
    "# obs = env.reset()\n",
    "# current_tip_pos = env.prev_observation['observation']['tip_positions']\n",
    "obj_pose = Pose.from_dict(env.prev_observation['achieved_goal'])\n",
    "c_utils.get_of_from_wf(current_tip_pos, obj_pose)"
   ]
  },
  {
   "cell_type": "code",
   "execution_count": 8,
   "id": "90ffa96a-2193-406f-a627-eaf514cddb51",
   "metadata": {},
   "outputs": [
    {
     "data": {
      "text/plain": [
       "(array([5., 0., 0., 0., 0., 0., 0., 0., 0., 1.]),\n",
       " array([0.01453273, 0.0253115 , 0.03609027, 0.04686904, 0.05764781,\n",
       "        0.06842658, 0.07920535, 0.08998412, 0.10076289, 0.11154166,\n",
       "        0.12232043]),\n",
       " <BarContainer object of 10 artists>)"
      ]
     },
     "execution_count": 8,
     "metadata": {},
     "output_type": "execute_result"
    },
    {
     "data": {
      "image/png": "[encoded data removed]",
      "text/plain": [
       "<Figure size 432x288 with 1 Axes>"
      ]
     },
     "metadata": {
      "needs_background": "light"
     },
     "output_type": "display_data"
    }
   ],
   "source": [
    "plt.hist([np.linalg.norm(tp - dtp) for tp, dtp in zip(tip_positions, des_tip_positions)])"
   ]
  },
  {
   "cell_type": "code",
   "execution_count": 3,
   "id": "d845fd01-395a-4a3d-aa8d-88bc10f05be5",
   "metadata": {},
   "outputs": [
    {
     "data": {
      "text/plain": [
       "(array([12.,  4., 13.,  6.,  1.,  0.,  1.,  5.,  3.,  5.]),\n",
       " array([0.01438022, 0.03261799, 0.05085577, 0.06909355, 0.08733133,\n",
       "        0.10556911, 0.12380688, 0.14204466, 0.16028244, 0.17852022,\n",
       "        0.196758  ]),\n",
       " <BarContainer object of 10 artists>)"
      ]
     },
     "execution_count": 3,
     "metadata": {},
     "output_type": "execute_result"
    },
    {
     "data": {
      "image/png": "[encoded data removed]",
      "text/plain": [
       "<Figure size 432x288 with 1 Axes>"
      ]
     },
     "metadata": {
      "needs_background": "light"
     },
     "output_type": "display_data"
    }
   ],
   "source": [
    "plt.hist([np.linalg.norm(tp - dtp) for tp, dtp in zip(tip_positions, des_tip_positions)])"
   ]
  },
  {
   "cell_type": "code",
   "execution_count": 6,
   "id": "5808f1c6-be17-4f0f-8aae-fec957458df1",
   "metadata": {},
   "outputs": [
    {
     "data": {
      "text/plain": [
       "(array([13.,  0.,  9., 11.,  3.,  1.,  0.,  2.,  4.,  7.]),\n",
       " array([0.01488869, 0.03052265, 0.04615661, 0.06179057, 0.07742453,\n",
       "        0.09305849, 0.10869245, 0.12432641, 0.13996037, 0.15559432,\n",
       "        0.17122828]),\n",
       " <BarContainer object of 10 artists>)"
      ]
     },
     "execution_count": 6,
     "metadata": {},
     "output_type": "execute_result"
    },
    {
     "data": {
      "image/png": "[encoded data removed]",
      "text/plain": [
       "<Figure size 432x288 with 1 Axes>"
      ]
     },
     "metadata": {
      "needs_background": "light"
     },
     "output_type": "display_data"
    }
   ],
   "source": [
    "plt.hist([np.linalg.norm(tp - dtp) for tp, dtp in zip(tip_positions, des_tip_positions)])"
   ]
  },
  {
   "cell_type": "code",
   "execution_count": 4,
   "id": "e2fe9a9f-7622-4f33-8bec-79857d5e8eab",
   "metadata": {},
   "outputs": [
    {
     "data": {
      "text/plain": [
       "(array([20.,  1.,  8.,  8.,  0.,  0.,  1.,  5.,  4.,  3.]),\n",
       " array([0.01478285, 0.03154379, 0.04830473, 0.06506568, 0.08182662,\n",
       "        0.09858756, 0.1153485 , 0.13210945, 0.14887039, 0.16563133,\n",
       "        0.18239227]),\n",
       " <BarContainer object of 10 artists>)"
      ]
     },
     "execution_count": 4,
     "metadata": {},
     "output_type": "execute_result"
    },
    {
     "data": {
      "image/png": "[encoded data removed]",
      "text/plain": [
       "<Figure size 432x288 with 1 Axes>"
      ]
     },
     "metadata": {
      "needs_background": "light"
     },
     "output_type": "display_data"
    }
   ],
   "source": [
    "plt.hist([np.linalg.norm(tp - dtp) for tp, dtp in zip(tip_positions, des_tip_positions)])"
   ]
  }
 ],
 "metadata": {
  "kernelspec": {
   "display_name": "Python 3",
   "language": "python",
   "name": "python3"
  },
  "language_info": {
   "codemirror_mode": {
    "name": "ipython",
    "version": 3
   },
   "file_extension": ".py",
   "mimetype": "text/x-python",
   "name": "python",
   "nbconvert_exporter": "python",
   "pygments_lexer": "ipython3",
   "version": "3.6.9"
  }
 },
 "nbformat": 4,
 "nbformat_minor": 5
}
