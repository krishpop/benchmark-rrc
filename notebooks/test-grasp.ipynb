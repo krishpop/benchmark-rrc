{
 "cells": [
  {
   "cell_type": "code",
   "execution_count": 2,
   "id": "82043bc5-5dcb-4903-b331-93ce2e30c066",
   "metadata": {},
   "outputs": [
    {
     "name": "stdout",
     "output_type": "stream",
     "text": [
      "IsaacGym not installed, FoP torch methods disabled\n"
     ]
    },
    {
     "name": "stderr",
     "output_type": "stream",
     "text": [
      "/scr1/.pyenv/versions/miniconda3-latest/envs/rrc/lib/python3.6/site-packages/gym/logger.py:30: UserWarning: \u001b[33mWARN: Box bound precision lowered by casting to float32\u001b[0m\n",
      "  warnings.warn(colorize('%s: %s'%('WARN', msg % args), 'yellow'))\n"
     ]
    }
   ],
   "source": [
    "%matplotlib inline\n",
    "import matplotlib.pyplot as plt\n",
    "import numpy as np\n",
    "import pybullet as p\n",
    "\n",
    "from rrc.env import make_env, initializers, cube_env\n",
    "from trifinger_simulation.tasks.move_cube import Pose\n",
    "from rrc_iprl_package.control import controller_utils_cube as c_utils\n",
    "from scipy.spatial.transform import Rotation\n",
    "from scipy.interpolate import interp1d"
   ]
  },
  {
   "cell_type": "markdown",
   "id": "e00505bc-a10a-4440-b76c-aeca536cb0ff",
   "metadata": {
    "jp-MarkdownHeadingCollapsed": true,
    "tags": []
   },
   "source": [
    "## Make wrench env \n",
    "\n",
    "```python\n",
    "\n",
    "env = make_env.env_fn_generator(\n",
    "    diff=1, env_cls=\"robot_wrench_env\", visualization=False, use_traj_opt=False,\n",
    "    initializer='dumb_init', flatten_goal=False\n",
    ")()\n",
    "```"
   ]
  },
  {
   "cell_type": "code",
   "execution_count": 3,
   "id": "e6119816-02c7-43f2-83f7-19efd1b41f73",
   "metadata": {},
   "outputs": [
    {
     "name": "stderr",
     "output_type": "stream",
     "text": [
      "/scr1/.pyenv/versions/miniconda3-latest/envs/rrc/lib/python3.6/site-packages/gym/logger.py:30: UserWarning: \u001b[33mWARN: Box bound precision lowered by casting to float32\u001b[0m\n",
      "  warnings.warn(colorize('%s: %s'%('WARN', msg % args), 'yellow'))\n"
     ]
    }
   ],
   "source": [
    "init = initializers.fixed_init(2)\n",
    "ki = 0.1\n",
    "int_freq = 10\n",
    "visualization = True\n",
    "traj_opt=False\n",
    "path = None\n",
    "use_actual_cp = True\n",
    "impedance = False\n",
    "object_shape = \"ycb\"\n",
    "\n",
    "env = cube_env.RobotWrenchCubeEnv(\n",
    "            dict(position=[0, 0, 0.05], orientation=[0, 0, 0, 1]),\n",
    "            2,\n",
    "            ki=ki,\n",
    "            integral_control_freq=int_freq,\n",
    "            visualization=visualization,\n",
    "            initializer=init,\n",
    "            debug=True,\n",
    "            use_traj_opt=True,\n",
    "            path=path,\n",
    "            force_factor=1.0,\n",
    "            torque_factor=0.1,\n",
    "            episode_length=5000,\n",
    "            use_actual_cp=use_actual_cp,\n",
    "            use_impedance=impedance,\n",
    "            object_shape=object_shape,\n",
    "        )"
   ]
  },
  {
   "cell_type": "markdown",
   "id": "d9c9f4ca-6aee-4f05-8532-26ba41e53add",
   "metadata": {
    "jp-MarkdownHeadingCollapsed": true,
    "tags": []
   },
   "source": [
    "## Helper fns"
   ]
  },
  {
   "cell_type": "code",
   "execution_count": 13,
   "id": "ad5c0657-a491-40d2-af94-99fc6c6398e0",
   "metadata": {},
   "outputs": [],
   "source": [
    "def set_traj_repose_object(observation, x0, x_goal, cp_params, pinocchio_utils, nGrid=50, dt=0.01):\n",
    "    \"\"\"Run trajectory optimization to move object given fixed contact points\"\"\"\n",
    "    qnum = 3\n",
    "    # Get current joint positions\n",
    "    current_position = observation['position']\n",
    "    # Get current fingertip positions\n",
    "    current_ft_pos = pinocchio_utils.forward_kinematics(current_position)\n",
    "\n",
    "    x_soln, dx_soln, l_wf_soln = c_utils.run_fixed_cp_traj_opt(\n",
    "        cp_params,\n",
    "        current_position,\n",
    "        pinocchio_utils,\n",
    "        x0,\n",
    "        x_goal,\n",
    "        nGrid,\n",
    "        dt\n",
    "    )\n",
    "\n",
    "    ft_pos = np.zeros((nGrid, 9))\n",
    "    ft_vel = np.zeros((nGrid, 9))\n",
    "\n",
    "    free_finger_id = None\n",
    "    for i, cp in enumerate(cp_params):\n",
    "        if cp is None:\n",
    "            free_finger_id = i\n",
    "            break\n",
    "\n",
    "    for t_i in range(nGrid):\n",
    "        # Set fingertip goal positions and velocities from x_soln, dx_soln\n",
    "        next_cube_pos_wf = x_soln[t_i, 0:3]\n",
    "        next_cube_quat_wf = x_soln[t_i, 3:]\n",
    "\n",
    "        ft_pos_list = c_utils.get_cp_pos_wf_from_cp_params(\n",
    "            cp_params, next_cube_pos_wf, next_cube_quat_wf\n",
    "        )\n",
    "\n",
    "        # Hold free_finger at current ft position\n",
    "        if free_finger_id is not None:\n",
    "            ft_pos_list[free_finger_id] = current_ft_pos[free_finger_id]\n",
    "        ft_pos[t_i, :] = np.asarray(ft_pos_list).flatten()\n",
    "\n",
    "        # Fingertip velocities\n",
    "        ft_vel_arr = np.tile(dx_soln[t_i, 0:3], 3)\n",
    "        if free_finger_id is not None:\n",
    "            ft_vel_arr[\n",
    "                free_finger_id * qnum : free_finger_id * qnum + qnum\n",
    "            ] = np.zeros(qnum)\n",
    "        ft_vel[t_i, :] = ft_vel_arr\n",
    "\n",
    "    # Add 0 forces for free_fingertip to l_wf\n",
    "    l_wf = np.zeros((nGrid, 9))\n",
    "    i = 0\n",
    "    for f_i in range(3):\n",
    "        if f_i == free_finger_id:\n",
    "            continue\n",
    "        l_wf[:, f_i * qnum : f_i * qnum + qnum] = l_wf_soln[\n",
    "            :, i * qnum : i * qnum + qnum\n",
    "        ]\n",
    "        i += 1\n",
    "\n",
    "    # Number of interpolation points\n",
    "    interp_n = 26\n",
    "\n",
    "    # Linearly interpolate between each position waypoint (row) and force waypoint\n",
    "    # Initial row indices\n",
    "    row_ind_in = np.arange(nGrid)\n",
    "    # Output row coordinates\n",
    "    row_coord_out = np.linspace(0, nGrid - 1, interp_n * (nGrid - 1) + nGrid)\n",
    "    # scipy.interpolate.interp1d instance\n",
    "    itp_pos = interp1d(row_ind_in, ft_pos, axis=0)\n",
    "    # itp_vel = interp1d(row_ind_in, ft_vel, axis=0)\n",
    "    itp_lwf = interp1d(row_ind_in, l_wf, axis=0)\n",
    "    ft_pos_traj = itp_pos(row_coord_out)\n",
    "    # self.ft_vel_traj = itp_vel(row_coord_out)\n",
    "    l_wf_traj = itp_lwf(row_coord_out)\n",
    "\n",
    "    # Linearly interpolate between each object pose\n",
    "    # TODO: Does it make sense to linearly interpolate quaternions?\n",
    "    itp_x_soln = interp1d(row_ind_in, x_soln, axis=0)\n",
    "    x_traj = itp_x_soln(row_coord_out)\n",
    "\n",
    "    # Zero-order hold for velocity waypoints\n",
    "    ft_vel_traj = np.repeat(ft_vel, repeats=interp_n + 1, axis=0)[\n",
    "        :-interp_n, :\n",
    "    ]\n",
    "    dx_traj = np.repeat(dx_soln, repeats=interp_n + 1, axis=0)[\n",
    "        :-interp_n, :\n",
    "    ]\n",
    "    return ft_pos_traj, ft_vel_traj, l_wf_traj, x_traj, dx_traj"
   ]
  },
  {
   "cell_type": "code",
   "execution_count": 5,
   "id": "461afe63-b28d-4039-99fa-43021daee246",
   "metadata": {},
   "outputs": [],
   "source": [
    "def get_grasp_ft_goal(obs):\n",
    "    current_position = obs[\"observation\"][\"position\"]\n",
    "    current_ft_pos = obs[\"observation\"][\"tip_positions\"]\n",
    "    obj_pose = Pose.from_dict(obs[\"achieved_goal\"])\n",
    "    cp_wf_list = c_utils.get_cp_pos_wf_from_cp_params(env.cp_params, obj_pose.position, obj_pose.orientation)\n",
    "    R_list = c_utils.get_ft_R(current_position)\n",
    "    # Deal with None fingertip_goal here\n",
    "    # If cp_wf is None, set ft_goal to be  current ft position\n",
    "    for i in range(len(cp_wf_list)):\n",
    "        if cp_wf_list[i] is None:\n",
    "            cp_wf_list[i] = current_ft_pos[i]\n",
    "        else:\n",
    "            # Transform cp to ft center\n",
    "            R = R_list[i]\n",
    "            ftip_radius_pos_offset = R @ np.array([0, 0, 0.005])\n",
    "            new_pos = np.array(cp_wf_list[i]) + ftip_radius_pos_offset[:3]\n",
    "            cp_wf_list[i] = new_pos\n",
    "    return np.concatenate(cp_wf_list)"
   ]
  },
  {
   "cell_type": "code",
   "execution_count": 6,
   "id": "34eca407-dfb0-455e-b384-f621897875b9",
   "metadata": {},
   "outputs": [],
   "source": [
    "def compute_joint_torques(q_curr, dq_curr, des_wrench, tip_forces_wf,\n",
    "                          use_impedance=False, resist=False):\n",
    "    current_ft_pos = env.pinocchio_utils.forward_kinematics(q_curr)\n",
    "    (\n",
    "        ft_pos_goal_list,\n",
    "        ft_vel_goal_list,\n",
    "        delta_dx,\n",
    "        tip_jacobians,\n",
    "    ) = env.get_ft_pos_vel_goals(q_curr, dq_curr, current_ft_pos, des_wrench)\n",
    "    ft_vel_goal_list = np.zeros((3, 3))\n",
    "    torque = np.zeros(9)\n",
    "    Kp = np.array([200, 200, 400, 200, 200, 400, 200, 200, 400]) * 0.1\n",
    "    Kv = np.array([7.0, 7.0, 8.0, 7.0, 7.0, 8.0, 7.0, 7.0, 8.0]) * 0.1\n",
    "    if use_impedance:\n",
    "        torque = c_utils.impedance_controller(\n",
    "            ft_pos_goal_list,\n",
    "            ft_vel_goal_list,\n",
    "            q_curr,\n",
    "            dq_curr,\n",
    "            env.pinocchio_utils,\n",
    "            tip_forces_wf=tip_forces_wf.flatten(),\n",
    "            grav=env._gravity,\n",
    "            Kp=Kp,\n",
    "            Kv=Kv,\n",
    "        )\n",
    "    for fid in range(3):\n",
    "        delta_x = np.expand_dims(ft_pos_goal_list[fid] - current_ft_pos[fid], 1)\n",
    "        Ji = tip_jacobians[fid]\n",
    "        tip_force = np.expand_dims(tip_forces_wf[fid], 1)\n",
    "        _, g = env.pinocchio_utils.get_lambda_and_g_matrix(fid, q_curr, Ji, env._gravity)\n",
    "        torque = (Ji.T @ tip_force).squeeze() + g.squeeze()\n",
    "    return torque"
   ]
  },
  {
   "cell_type": "code",
   "execution_count": 7,
   "id": "f0179260-235a-4d4d-8d2a-bb32fb6fd0c4",
   "metadata": {},
   "outputs": [],
   "source": [
    "def get_obs_forces_wf():\n",
    "    obs_forces = env.update_contact_state()\n",
    "    cpts = env.get_contact_points()\n",
    "    forces = [(cpt.normalForce, cpt.lateralFriction1, cpt.lateralFriction2) for cpt in cpts]\n",
    "    orientations = [(cpt.contactNormalOnB, cpt.lateralFrictionDir1, cpt.lateralFrictionDir2) for cpt in cpts]\n",
    "    positions = [cpt.positionOnB for cpt in cpts]\n",
    "    forces_wf = env.rotate_obs_force(forces, orientations)[0]\n",
    "    return forces_wf"
   ]
  },
  {
   "cell_type": "markdown",
   "id": "dbf073ae-6a36-4ca3-a63f-f164ea851801",
   "metadata": {},
   "source": [
    "## Run episode"
   ]
  },
  {
   "cell_type": "code",
   "execution_count": 8,
   "id": "fe0dfc96-58be-4db4-90fb-e4a21a11775c",
   "metadata": {
    "collapsed": true,
    "jupyter": {
     "outputs_hidden": true
    },
    "tags": []
   },
   "outputs": [
    {
     "name": "stderr",
     "output_type": "stream",
     "text": [
      "/scr-ssd/ksrini/trifinger_simulation/python/trifinger_simulation/trifinger_platform.py:310: UserWarning: Cameras are not enabled, so images in the camera observation are not initialized.  Create `TriFingerPlatform` with `enable_cameras=True` to get rendered camera images.\n",
      "  \"Cameras are not enabled, so images in the camera observation\"\n"
     ]
    },
    {
     "name": "stdout",
     "output_type": "stream",
     "text": [
      "DEBUG: ~~~~~~Executing Pre-Grasp Align~~~~~~\n",
      "DEBUG: ft_pre_goal:[ 0.     0.074  0.117  0.    -0.074  0.117 -0.074  0.     0.117]\n",
      "DEBUG: ft_goal:[ 0.     0.074  0.033  0.    -0.074  0.033 -0.074  0.     0.033]\n",
      "DEBUG: error to goal: [0.006 0.009 0.001 0.003 0.002 0.001 0.005 0.006 0.001]\n",
      "DEBUG: error to goal: [0.002 0.007 0.001 0.002 0.003 0.001 0.006 0.003 0.   ]\n",
      "DEBUG: ~~~~~~Executing Pre-Grasp Reach~~~~~~\n",
      "DEBUG: error to goal: [0.    0.    0.01  0.001 0.001 0.009 0.001 0.001 0.01 ]\n",
      "DEBUG: ~~~~~~Executing Grasp~~~~~~\n",
      "DEBUG: current_ft_pos [[-0.0006541964641109746, 0.07328417601169428, 0.03713226804153058], [0.001781707509323785, -0.07115650141659075, 0.036226059278236106], [-0.07224424367594358, -0.0013345265236779646, 0.036926334745521094]]\n",
      "DEBUG: ft_goal [ 0.002  0.038  0.045  0.004 -0.036  0.045 -0.038 -0.001  0.045]\n",
      "\n",
      "******************************************************************************\n",
      "This program contains Ipopt, a library for large-scale nonlinear optimization.\n",
      " Ipopt is released as open source code under the Eclipse Public License (EPL).\n",
      "         For more information visit http://projects.coin-or.org/Ipopt\n",
      "******************************************************************************\n",
      "\n",
      "DEBUG: ft_pos_traj shape (244, 9)\n",
      "DEBUG: ft_pos_goal_list: [array([-0.001,  0.071,  0.037]), array([ 0.002, -0.069,  0.036]), array([-0.07 , -0.001,  0.037])]\n",
      "DEBUG: torque: [-0.013  0.062 -0.049 -0.002  0.076 -0.022 -0.008  0.068 -0.038]\n",
      "DEBUG: current step_count: 201\n",
      "DEBUG: ft_pos_goal_list: [array([-3.753e-05,  6.530e-02,  3.819e-02]), array([ 0.002, -0.064,  0.036]), array([-0.065, -0.001,  0.038])]\n",
      "DEBUG: torque: [-0.066  0.152 -0.037 -0.116  0.126 -0.041 -0.094  0.15  -0.039]\n",
      "DEBUG: ft_pos_goal_list: [array([0.   , 0.06 , 0.039]), array([ 0.001, -0.059,  0.036]), array([-0.06 , -0.001,  0.038])]\n",
      "DEBUG: torque: [-0.058  0.137 -0.04  -0.102  0.112 -0.045 -0.084  0.134 -0.042]\n",
      "DEBUG: ft_pos_goal_list: [array([0.001, 0.055, 0.04 ]), array([ 0.001, -0.054,  0.036]), array([-0.055, -0.   ,  0.039])]\n",
      "DEBUG: torque: [-0.058  0.135 -0.041 -0.096  0.11  -0.045 -0.081  0.131 -0.043]\n",
      "DEBUG: ft_pos_goal_list: [array([0.001, 0.05 , 0.041]), array([ 0.001, -0.05 ,  0.036]), array([-5.060e-02,  1.759e-05,  3.957e-02])]\n",
      "DEBUG: torque: [-0.06   0.137 -0.043 -0.071  0.097 -0.049 -0.06   0.1   -0.056]\n",
      "DEBUG: current step_count: 402\n",
      "DEBUG: error to goal: [0.    0.01  0.002 0.001 0.009 0.    0.002 0.001 0.001]\n",
      "DEBUG: ~~~~~~Done Executing Grasp~~~~~~\n"
     ]
    }
   ],
   "source": [
    "obs = env.reset()\n",
    "ft_goal = get_grasp_ft_goal(env.prev_observation)\n",
    "interp_n = 2\n",
    "current_position = env.prev_observation['observation']['position']\n",
    "current_ft_pos = env.prev_observation['observation']['tip_positions']\n",
    "done = env.ik_move(current_position, current_ft_pos,\n",
    "                   ft_goal, interp_n, max_steps=10)"
   ]
  },
  {
   "cell_type": "code",
   "execution_count": 14,
   "id": "f0ecedf6-4728-41f7-8255-610eedcf3259",
   "metadata": {},
   "outputs": [],
   "source": [
    "observation = env.prev_observation['observation']\n",
    "cp_params = env.cp_params\n",
    "pinocchio_utils = env.pinocchio_utils\n",
    "initial_pose, goal_pose = env.prev_observation['achieved_goal'], env.prev_observation['desired_goal'] \n",
    "x0 = np.concatenate([initial_pose['position'], initial_pose['orientation']])[None]\n",
    "x_goal = np.concatenate([goal_pose['position'], initial_pose['orientation']])[None]\n",
    "ft_pos_traj, ft_vel_traj, l_wf_traj, x_traj, dx_traj = set_traj_repose_object(\n",
    "    observation, x0, x_goal, cp_params, pinocchio_utils, dt=0.08)"
   ]
  },
  {
   "cell_type": "code",
   "execution_count": 182,
   "id": "0487dedd-9172-48bb-bf75-7710ef8dcb8a",
   "metadata": {},
   "outputs": [
    {
     "name": "stdout",
     "output_type": "stream",
     "text": [
      "DEBUG: current step_count: 804\n",
      "DEBUG: current step_count: 1005\n"
     ]
    },
    {
     "ename": "KeyboardInterrupt",
     "evalue": "",
     "output_type": "error",
     "traceback": [
      "\u001b[0;31m---------------------------------------------------------------------------\u001b[0m",
      "\u001b[0;31mKeyboardInterrupt\u001b[0m                         Traceback (most recent call last)",
      "\u001b[0;32m<ipython-input-182-c5e75b1d40f0>\u001b[0m in \u001b[0;36m<module>\u001b[0;34m\u001b[0m\n\u001b[1;32m      9\u001b[0m         tip_forces_wf=l_wf_traj[counter])\n\u001b[1;32m     10\u001b[0m \u001b[0;34m\u001b[0m\u001b[0m\n\u001b[0;32m---> 11\u001b[0;31m     \u001b[0mobs\u001b[0m\u001b[0;34m,\u001b[0m \u001b[0m_\u001b[0m\u001b[0;34m,\u001b[0m \u001b[0m_\u001b[0m\u001b[0;34m,\u001b[0m \u001b[0m_\u001b[0m \u001b[0;34m=\u001b[0m \u001b[0menv\u001b[0m\u001b[0;34m.\u001b[0m\u001b[0m_step\u001b[0m\u001b[0;34m(\u001b[0m\u001b[0mt\u001b[0m\u001b[0;34m)\u001b[0m\u001b[0;34m\u001b[0m\u001b[0;34m\u001b[0m\u001b[0m\n\u001b[0m\u001b[1;32m     12\u001b[0m     \u001b[0mobservation\u001b[0m \u001b[0;34m=\u001b[0m \u001b[0mobs\u001b[0m\u001b[0;34m[\u001b[0m\u001b[0;34m'observation'\u001b[0m\u001b[0;34m]\u001b[0m\u001b[0;34m\u001b[0m\u001b[0;34m\u001b[0m\u001b[0m\n",
      "\u001b[0;32m/scr-ssd/ksrini/benchmark-rrc/rrc/env/cube_env.py\u001b[0m in \u001b[0;36m_step\u001b[0;34m(self, action)\u001b[0m\n\u001b[1;32m   1534\u001b[0m             \u001b[0mrobot_action\u001b[0m \u001b[0;34m=\u001b[0m \u001b[0mself\u001b[0m\u001b[0;34m.\u001b[0m\u001b[0m_gym_action_to_robot_action\u001b[0m\u001b[0;34m(\u001b[0m\u001b[0maction\u001b[0m\u001b[0;34m)\u001b[0m\u001b[0;34m\u001b[0m\u001b[0;34m\u001b[0m\u001b[0m\n\u001b[1;32m   1535\u001b[0m             \u001b[0;32mif\u001b[0m \u001b[0mself\u001b[0m\u001b[0;34m.\u001b[0m\u001b[0msimulation\u001b[0m\u001b[0;34m:\u001b[0m\u001b[0;34m\u001b[0m\u001b[0;34m\u001b[0m\u001b[0m\n\u001b[0;32m-> 1536\u001b[0;31m                 \u001b[0mt\u001b[0m \u001b[0;34m=\u001b[0m \u001b[0mself\u001b[0m\u001b[0;34m.\u001b[0m\u001b[0mplatform\u001b[0m\u001b[0;34m.\u001b[0m\u001b[0mappend_desired_action\u001b[0m\u001b[0;34m(\u001b[0m\u001b[0mrobot_action\u001b[0m\u001b[0;34m)\u001b[0m\u001b[0;34m\u001b[0m\u001b[0;34m\u001b[0m\u001b[0m\n\u001b[0m\u001b[1;32m   1537\u001b[0m                 \u001b[0mobservation\u001b[0m \u001b[0;34m=\u001b[0m \u001b[0mself\u001b[0m\u001b[0;34m.\u001b[0m\u001b[0m_create_observation\u001b[0m\u001b[0;34m(\u001b[0m\u001b[0mt\u001b[0m\u001b[0;34m,\u001b[0m \u001b[0maction\u001b[0m\u001b[0;34m)\u001b[0m\u001b[0;34m\u001b[0m\u001b[0;34m\u001b[0m\u001b[0m\n\u001b[1;32m   1538\u001b[0m                 \u001b[0mself\u001b[0m\u001b[0;34m.\u001b[0m\u001b[0mobservation_list\u001b[0m\u001b[0;34m.\u001b[0m\u001b[0mappend\u001b[0m\u001b[0;34m(\u001b[0m\u001b[0mobservation\u001b[0m\u001b[0;34m)\u001b[0m\u001b[0;34m\u001b[0m\u001b[0;34m\u001b[0m\u001b[0m\n",
      "\u001b[0;32m/scr-ssd/ksrini/trifinger_simulation/python/trifinger_simulation/trifinger_platform.py\u001b[0m in \u001b[0;36mappend_desired_action\u001b[0;34m(self, action)\u001b[0m\n\u001b[1;32m    231\u001b[0m         \u001b[0;32mif\u001b[0m \u001b[0mself\u001b[0m\u001b[0;34m.\u001b[0m\u001b[0mjoint_friction\u001b[0m \u001b[0;32mis\u001b[0m \u001b[0;32mnot\u001b[0m \u001b[0;32mNone\u001b[0m\u001b[0;34m:\u001b[0m\u001b[0;34m\u001b[0m\u001b[0;34m\u001b[0m\u001b[0m\n\u001b[1;32m    232\u001b[0m             \u001b[0maction\u001b[0m\u001b[0;34m.\u001b[0m\u001b[0mtorque\u001b[0m \u001b[0;34m-=\u001b[0m \u001b[0mself\u001b[0m\u001b[0;34m.\u001b[0m\u001b[0mjoint_friction\u001b[0m\u001b[0;34m\u001b[0m\u001b[0;34m\u001b[0m\u001b[0m\n\u001b[0;32m--> 233\u001b[0;31m         \u001b[0mt\u001b[0m \u001b[0;34m=\u001b[0m \u001b[0mself\u001b[0m\u001b[0;34m.\u001b[0m\u001b[0msimfinger\u001b[0m\u001b[0;34m.\u001b[0m\u001b[0mappend_desired_action\u001b[0m\u001b[0;34m(\u001b[0m\u001b[0maction\u001b[0m\u001b[0;34m)\u001b[0m\u001b[0;34m\u001b[0m\u001b[0;34m\u001b[0m\u001b[0m\n\u001b[0m\u001b[1;32m    234\u001b[0m \u001b[0;34m\u001b[0m\u001b[0m\n\u001b[1;32m    235\u001b[0m         \u001b[0;31m# The correct timestamp can only be acquired now that t is given.\u001b[0m\u001b[0;34m\u001b[0m\u001b[0;34m\u001b[0m\u001b[0;34m\u001b[0m\u001b[0m\n",
      "\u001b[0;32m/scr-ssd/ksrini/trifinger_simulation/python/trifinger_simulation/sim_finger.py\u001b[0m in \u001b[0;36mappend_desired_action\u001b[0;34m(self, action)\u001b[0m\n\u001b[1;32m    177\u001b[0m         \u001b[0;31m# save current observation, then step simulation\u001b[0m\u001b[0;34m\u001b[0m\u001b[0;34m\u001b[0m\u001b[0;34m\u001b[0m\u001b[0m\n\u001b[1;32m    178\u001b[0m         \u001b[0mself\u001b[0m\u001b[0;34m.\u001b[0m\u001b[0m_observation_t\u001b[0m \u001b[0;34m=\u001b[0m \u001b[0mself\u001b[0m\u001b[0;34m.\u001b[0m\u001b[0m_get_latest_observation\u001b[0m\u001b[0;34m(\u001b[0m\u001b[0;34m)\u001b[0m\u001b[0;34m\u001b[0m\u001b[0;34m\u001b[0m\u001b[0m\n\u001b[0;32m--> 179\u001b[0;31m         \u001b[0mself\u001b[0m\u001b[0;34m.\u001b[0m\u001b[0m_step_simulation\u001b[0m\u001b[0;34m(\u001b[0m\u001b[0;34m)\u001b[0m\u001b[0;34m\u001b[0m\u001b[0;34m\u001b[0m\u001b[0m\n\u001b[0m\u001b[1;32m    180\u001b[0m \u001b[0;34m\u001b[0m\u001b[0m\n\u001b[1;32m    181\u001b[0m         \u001b[0mself\u001b[0m\u001b[0;34m.\u001b[0m\u001b[0m_t\u001b[0m \u001b[0;34m+=\u001b[0m \u001b[0;36m1\u001b[0m\u001b[0;34m\u001b[0m\u001b[0;34m\u001b[0m\u001b[0m\n",
      "\u001b[0;32m/scr-ssd/ksrini/trifinger_simulation/python/trifinger_simulation/sim_finger.py\u001b[0m in \u001b[0;36m_step_simulation\u001b[0;34m(self)\u001b[0m\n\u001b[1;32m    395\u001b[0m         \"\"\"\n\u001b[1;32m    396\u001b[0m         pybullet.stepSimulation(\n\u001b[0;32m--> 397\u001b[0;31m             \u001b[0mphysicsClientId\u001b[0m\u001b[0;34m=\u001b[0m\u001b[0mself\u001b[0m\u001b[0;34m.\u001b[0m\u001b[0m_pybullet_client_id\u001b[0m\u001b[0;34m,\u001b[0m\u001b[0;34m\u001b[0m\u001b[0;34m\u001b[0m\u001b[0m\n\u001b[0m\u001b[1;32m    398\u001b[0m         )\n\u001b[1;32m    399\u001b[0m \u001b[0;34m\u001b[0m\u001b[0m\n",
      "\u001b[0;31mKeyboardInterrupt\u001b[0m: "
     ]
    }
   ],
   "source": [
    "while True:\n",
    "    counter += 1\n",
    "    t = c_utils.impedance_controller(\n",
    "        ft_pos_traj[counter].reshape((3,3)),\n",
    "        ft_vel_traj[counter].reshape((3,3)),\n",
    "        observation['position'],\n",
    "        observation['velocity'],\n",
    "        pinocchio_utils,\n",
    "        tip_forces_wf=l_wf_traj[counter])\n",
    "\n",
    "    obs, _, _, _ = env._step(t)\n",
    "    observation = obs['observation']"
   ]
  },
  {
   "cell_type": "code",
   "execution_count": 31,
   "id": "9d69cb2b-3c1c-4bd1-a8ba-320e353b261a",
   "metadata": {},
   "outputs": [],
   "source": [
    "env.ki = 0.05\n",
    "env.debug = False"
   ]
  },
  {
   "cell_type": "code",
   "execution_count": 10,
   "id": "ae4ef6de-83da-44bc-ab7b-92ee15d7374d",
   "metadata": {},
   "outputs": [
    {
     "ename": "AttributeError",
     "evalue": "'RobotWrenchCubeEnv' object has no attribute '_des_tip_force'",
     "output_type": "error",
     "traceback": [
      "\u001b[0;31m---------------------------------------------------------------------------\u001b[0m",
      "\u001b[0;31mAttributeError\u001b[0m                            Traceback (most recent call last)",
      "\u001b[0;32m<ipython-input-10-a5749932e0e1>\u001b[0m in \u001b[0;36m<module>\u001b[0;34m\u001b[0m\n\u001b[0;32m----> 1\u001b[0;31m \u001b[0menv\u001b[0m\u001b[0;34m.\u001b[0m\u001b[0m_integral\u001b[0m\u001b[0;34m,\u001b[0m \u001b[0menv\u001b[0m\u001b[0;34m.\u001b[0m\u001b[0m_des_tip_force\u001b[0m\u001b[0;34m,\u001b[0m \u001b[0mforces_wf\u001b[0m\u001b[0;34m\u001b[0m\u001b[0;34m\u001b[0m\u001b[0m\n\u001b[0m",
      "\u001b[0;31mAttributeError\u001b[0m: 'RobotWrenchCubeEnv' object has no attribute '_des_tip_force'"
     ]
    }
   ],
   "source": [
    "env._integral, env._des_tip_force, forces_wf"
   ]
  },
  {
   "cell_type": "code",
   "execution_count": null,
   "id": "90e5be35-5949-4dc5-ace7-b16f6fefb4a5",
   "metadata": {},
   "outputs": [
    {
     "ename": "NameError",
     "evalue": "name 'current_pose' is not defined",
     "output_type": "error",
     "traceback": [
      "\u001b[0;31m---------------------------------------------------------------------------\u001b[0m",
      "\u001b[0;31mNameError\u001b[0m                                 Traceback (most recent call last)",
      "\u001b[0;32m<ipython-input-11-f2467e768f65>\u001b[0m in \u001b[0;36m<module>\u001b[0;34m\u001b[0m\n\u001b[1;32m      1\u001b[0m env.get_cp_wf_list(\n\u001b[0;32m----> 2\u001b[0;31m     env.cp_params, current_pose, use_actual_cp=False)[i][0]\n\u001b[0m",
      "\u001b[0;31mNameError\u001b[0m: name 'current_pose' is not defined"
     ]
    }
   ],
   "source": [
    "env.get_cp_wf_list(\n",
    "    env.cp_params, current_pose, use_actual_cp=False)[i][0]"
   ]
  },
  {
   "cell_type": "code",
   "execution_count": 42,
   "id": "52a9cae0-440e-4cf6-a1fb-4ce2294799f1",
   "metadata": {},
   "outputs": [
    {
     "name": "stdout",
     "output_type": "stream",
     "text": [
      "DEBUG: error to goal: [0.003 0.001 0.001 0.005 0.003 0.002 0.006 0.002 0.003]\n",
      "DEBUG: current step_count: 2010\n",
      "DEBUG: error to goal: [0.007 0.001 0.003 0.003 0.004 0.002 0.002 0.001 0.001]\n",
      "DEBUG: error to goal: [0.007 0.001 0.003 0.003 0.004 0.002 0.002 0.001 0.001]\n",
      "DEBUG: error to goal: [0.007 0.001 0.003 0.003 0.004 0.002 0.002 0.001 0.001]\n",
      "DEBUG: error to goal: [0.007 0.001 0.003 0.003 0.004 0.002 0.002 0.001 0.001]\n",
      "DEBUG: current step_count: 2211\n",
      "DEBUG: error to goal: [0.007 0.001 0.003 0.003 0.004 0.002 0.002 0.001 0.001]\n",
      "DEBUG: error to goal: [0.007 0.001 0.003 0.003 0.004 0.002 0.002 0.001 0.001]\n",
      "DEBUG: error to goal: [0.007 0.001 0.003 0.003 0.004 0.002 0.002 0.001 0.001]\n",
      "DEBUG: error to goal: [0.007 0.001 0.003 0.003 0.004 0.002 0.002 0.001 0.001]\n",
      "DEBUG: current step_count: 2412\n",
      "DEBUG: error to goal: [0.007 0.001 0.003 0.003 0.004 0.002 0.002 0.001 0.001]\n"
     ]
    }
   ],
   "source": [
    "current_pose = Pose.from_dict(env.prev_observation['achieved_goal'])\n",
    "current_ft_pos = env.prev_observation['observation']['tip_positions']\n",
    "# ft_goal = current_ft_pos.copy()\n",
    "ft_goal = env.get_ft_goal(q_curr, current_ft_pos, current_pose)\n",
    "# for i, cpt in enumerate(cpts):\n",
    "#     if cpt is None:\n",
    "#         ft_goal[i] = des_goals[3*i:3*i+3]\n",
    "ft_goal = ft_goal.flatten()\n",
    "env.visualize_markers()\n",
    "env.ik_move(q_curr, current_ft_pos, ft_goal, 15)\n",
    "env.visualize_markers()"
   ]
  },
  {
   "cell_type": "code",
   "execution_count": null,
   "id": "fc9e3277-1695-4d4b-94f3-69b6f8618529",
   "metadata": {},
   "outputs": [],
   "source": [
    "for _ in range(10):\n",
    "    obs_forces = env.update_contact_state()\n",
    "    cpts = env.get_contact_points()\n",
    "    forces = [(cpt.normalForce, cpt.lateralFriction1, cpt.lateralFriction2) for cpt in cpts]\n",
    "    orientations = [(cpt.contactNormalOnB, cpt.lateralFrictionDir1, cpt.lateralFrictionDir2) for cpt in cpts]\n",
    "    positions = [cpt.positionOnB for cpt in cpts]\n",
    "    forces_wf = env.rotate_obs_force(forces, orientations)[0]\n",
    "    torque, des_tip_forces = env.action(np.array([0, .1, .25, 0, 0, 0]))\n",
    "    # tip_forces[-1, -1] *= -1\n",
    "    q_curr, dq_curr = env.prev_observation['observation']['position'], env.prev_observation['observation']['velocity']\n",
    "    torque = compute_joint_torques(\n",
    "        q_curr, dq_curr, np.array([0, 0, 0.5, 0, 0, 0]), des_tip_forces, use_impedance=True)\n",
    "    env._step(torque)\n",
    "    env.visualize_forces(positions, forces_wf, color='red')\n",
    "    env.visualize_forces(positions, des_tip_forces, color='green')\n",
    "    env.visualize_markers()\n",
    "    env._des_tip_force, env._integral, forces_wf, des_tip_forces"
   ]
  },
  {
   "cell_type": "code",
   "execution_count": 21,
   "id": "ce8a6c9d-0d26-47ca-a72f-c611de0ee650",
   "metadata": {},
   "outputs": [],
   "source": [
    "env._current_contact_ori[0]"
   ]
  },
  {
   "cell_type": "code",
   "execution_count": 9,
   "id": "e1f09887-7444-4fc9-bc62-93bdf130fc62",
   "metadata": {},
   "outputs": [
    {
     "name": "stdout",
     "output_type": "stream",
     "text": [
      "DEBUG: Obs CP List: pos ([[ 0.001  0.034  0.008]\n",
      " [ 0.006 -0.031  0.007]\n",
      " [-0.032 -0.006  0.006]]),\n",
      "ori ([[ 6.470e-03  8.691e-03 -7.051e-01  7.091e-01]\n",
      " [ 6.345e-03 -4.123e-03  7.054e-01  7.088e-01]\n",
      " [ 4.676e-03 -2.279e-04  2.823e-03  1.000e+00]])\n",
      "DEBUG: Des CP List: pos ([[ 0.     0.034  0.   ]\n",
      " [ 0.    -0.034  0.   ]\n",
      " [-0.034  0.     0.   ]]),\n",
      "ori ([[ 0.     0.    -0.707  0.707]\n",
      " [ 0.     0.     0.707  0.707]\n",
      " [ 0.     0.     0.     1.   ]])\n"
     ]
    },
    {
     "data": {
      "text/plain": [
       "[(array([0.001, 0.034, 0.008]), array([ 0.006,  0.009, -0.705,  0.709])),\n",
       " (array([ 0.006, -0.031,  0.007]), array([ 0.006, -0.004,  0.705,  0.709])),\n",
       " (array([-0.032, -0.006,  0.006]),\n",
       "  array([ 4.676e-03, -2.279e-04,  2.823e-03,  1.000e+00]))]"
      ]
     },
     "execution_count": 9,
     "metadata": {},
     "output_type": "execute_result"
    }
   ],
   "source": [
    "env.get_cp_of_list(\n",
    "    env.cp_params,\n",
    "    Pose.from_dict(env.prev_observation['achieved_goal']),\n",
    "    use_actual_cp=True)"
   ]
  },
  {
   "cell_type": "code",
   "execution_count": null,
   "id": "fbfe64e3-1490-4e4f-8b48-750e8c88f9a4",
   "metadata": {},
   "outputs": [],
   "source": [
    "J , _ =  p.calculateJacobian(14,\n",
    "                             env.prev_observation['observation']['position'], \n",
    "                             env.prev_observation['observation']['velocity'],\n",
    "                             f)\n",
    "J "
   ]
  },
  {
   "cell_type": "code",
   "execution_count": 5,
   "id": "c743f06d-5536-42f0-b52f-ea4f9db502e3",
   "metadata": {},
   "outputs": [
    {
     "data": {
      "text/plain": [
       "array([[-2.51349316e-01, -2.39507205e-03, -3.79584341e-02,\n",
       "         0.00000000e+00,  0.00000000e+00,  0.00000000e+00,\n",
       "         0.00000000e+00,  0.00000000e+00,  0.00000000e+00],\n",
       "       [ 0.00000000e+00,  2.36694838e-01,  1.16816609e-01,\n",
       "         0.00000000e+00,  0.00000000e+00,  0.00000000e+00,\n",
       "         0.00000000e+00,  0.00000000e+00,  0.00000000e+00],\n",
       "       [-2.29251639e-04, -6.72268254e-03, -1.06544813e-01,\n",
       "         0.00000000e+00,  0.00000000e+00,  0.00000000e+00,\n",
       "         0.00000000e+00,  0.00000000e+00,  0.00000000e+00],\n",
       "       [ 0.00000000e+00,  9.42002865e-01,  9.42002865e-01,\n",
       "         0.00000000e+00,  0.00000000e+00,  0.00000000e+00,\n",
       "         0.00000000e+00,  0.00000000e+00,  0.00000000e+00],\n",
       "       [ 1.00000000e+00,  0.00000000e+00,  0.00000000e+00,\n",
       "         0.00000000e+00,  0.00000000e+00,  0.00000000e+00,\n",
       "         0.00000000e+00,  0.00000000e+00,  0.00000000e+00],\n",
       "       [ 0.00000000e+00, -3.35604830e-01, -3.35604830e-01,\n",
       "         0.00000000e+00,  0.00000000e+00,  0.00000000e+00,\n",
       "         0.00000000e+00,  0.00000000e+00,  0.00000000e+00]])"
      ]
     },
     "execution_count": 5,
     "metadata": {},
     "output_type": "execute_result"
    }
   ],
   "source": [
    "env.pinocchio_utils.get_tip_link_jacobian(0, env.prev_observation['observation']['position'])"
   ]
  },
  {
   "cell_type": "code",
   "execution_count": 4,
   "id": "a9ad1b3d-e174-48ef-b767-fc8d16580b1a",
   "metadata": {},
   "outputs": [],
   "source": [
    "obj_pose = Pose.from_dict(env.prev_observation[\"achieved_goal\"])\n",
    "des_cp_pos = np.array([x[0] for x in env.get_cp_of_list(env.cp_params, obj_pose, env.use_actual_cp)])"
   ]
  },
  {
   "cell_type": "code",
   "execution_count": 5,
   "id": "2a35eaf2-d4d3-4d31-8dff-e730ac11f88b",
   "metadata": {},
   "outputs": [],
   "source": [
    "policy = lambda obs: np.array([0,0,1., 0,0,0])"
   ]
  },
  {
   "cell_type": "code",
   "execution_count": 6,
   "id": "7ff393c6-43bf-45c7-84a1-c6711208aa08",
   "metadata": {},
   "outputs": [],
   "source": [
    "while not d:\n",
    "    delta_x = policy(obs).copy()\n",
    "    obs, r, d, i = env.step(policy(obs))"
   ]
  },
  {
   "cell_type": "code",
   "execution_count": null,
   "id": "f6a63834-ee78-4388-8a10-dffb4e137782",
   "metadata": {
    "tags": []
   },
   "outputs": [],
   "source": [
    "tip_positions = [] \n",
    "des_tip_positions = []\n",
    "n_episodes = 50\n",
    "for i in range(n_episodes):\n",
    "    obs = env.reset()\n",
    "    obj_pose = Pose.from_dict(env.prev_observation[\"achieved_goal\"])\n",
    "    cp_list = env.get_cp_wf_list(env.cp_params, obj_pose)\n",
    "    des_tip_pos = np.asarray([cp[0] for cp in cp_list])\n",
    "    current_tip_pos = env.prev_observation['observation']['tip_positions']\n",
    "    if np.linalg.norm(current_tip_pos - des_tip_pos) > 0.05:\n",
    "        env.execute_grasp()\n",
    "    des_tip_pos = np.asarray([cp[0] for cp in cp_list])\n",
    "    current_tip_pos = env.prev_observation['observation']['tip_positions']        \n",
    "    tip_positions.append(current_tip_pos)\n",
    "    des_tip_positions.append(des_tip_pos)"
   ]
  },
  {
   "cell_type": "code",
   "execution_count": 8,
   "id": "0a95dcfb-064f-48e9-bcb9-d73ba6c5d242",
   "metadata": {},
   "outputs": [],
   "source": [
    "d0, d1 = np.load('../tests/test.npz'), np.load('../tests/test_ki_0.110.npz')"
   ]
  },
  {
   "cell_type": "code",
   "execution_count": 11,
   "id": "da28d2e5-8378-46c5-ba92-4e51e38ea52c",
   "metadata": {},
   "outputs": [
    {
     "data": {
      "image/png": "[encoded data removed]",
      "text/plain": [
       "<Figure size 432x288 with 1 Axes>"
      ]
     },
     "metadata": {
      "needs_background": "light"
     },
     "output_type": "display_data"
    }
   ],
   "source": [
    "_, k = d0['ft_wf_traj'].shape\n",
    "for i in range(k):\n",
    "    plt.plot(np.linspace(0, 1, len(d0['ft_wf_traj'])), d0['ft_wf_traj'][:, i])"
   ]
  },
  {
   "cell_type": "code",
   "execution_count": 3,
   "id": "dc9daee2-63bb-47f1-a446-6dd8431246ec",
   "metadata": {},
   "outputs": [
    {
     "data": {
      "text/plain": [
       "array([[ 0.04404254, -0.12709241,  0.03389202],\n",
       "       [-0.08708513, -0.08474551,  0.03380303],\n",
       "       [ 0.02099654,  0.00797261,  0.04130636]])"
      ]
     },
     "execution_count": 3,
     "metadata": {},
     "output_type": "execute_result"
    }
   ],
   "source": [
    "# obs = env.reset()\n",
    "# current_tip_pos = env.prev_observation['observation']['tip_positions']\n",
    "obj_pose = Pose.from_dict(env.prev_observation['achieved_goal'])\n",
    "c_utils.get_of_from_wf(current_tip_pos, obj_pose)"
   ]
  },
  {
   "cell_type": "code",
   "execution_count": 8,
   "id": "90ffa96a-2193-406f-a627-eaf514cddb51",
   "metadata": {},
   "outputs": [
    {
     "data": {
      "text/plain": [
       "(array([5., 0., 0., 0., 0., 0., 0., 0., 0., 1.]),\n",
       " array([0.01453273, 0.0253115 , 0.03609027, 0.04686904, 0.05764781,\n",
       "        0.06842658, 0.07920535, 0.08998412, 0.10076289, 0.11154166,\n",
       "        0.12232043]),\n",
       " <BarContainer object of 10 artists>)"
      ]
     },
     "execution_count": 8,
     "metadata": {},
     "output_type": "execute_result"
    },
    {
     "data": {
      "image/png": "[encoded data removed]",
      "text/plain": [
       "<Figure size 432x288 with 1 Axes>"
      ]
     },
     "metadata": {
      "needs_background": "light"
     },
     "output_type": "display_data"
    }
   ],
   "source": [
    "plt.hist([np.linalg.norm(tp - dtp) for tp, dtp in zip(tip_positions, des_tip_positions)])"
   ]
  },
  {
   "cell_type": "code",
   "execution_count": 3,
   "id": "d845fd01-395a-4a3d-aa8d-88bc10f05be5",
   "metadata": {},
   "outputs": [
    {
     "data": {
      "text/plain": [
       "(array([12.,  4., 13.,  6.,  1.,  0.,  1.,  5.,  3.,  5.]),\n",
       " array([0.01438022, 0.03261799, 0.05085577, 0.06909355, 0.08733133,\n",
       "        0.10556911, 0.12380688, 0.14204466, 0.16028244, 0.17852022,\n",
       "        0.196758  ]),\n",
       " <BarContainer object of 10 artists>)"
      ]
     },
     "execution_count": 3,
     "metadata": {},
     "output_type": "execute_result"
    },
    {
     "data": {
      "image/png": "[encoded data removed]",
      "text/plain": [
       "<Figure size 432x288 with 1 Axes>"
      ]
     },
     "metadata": {
      "needs_background": "light"
     },
     "output_type": "display_data"
    }
   ],
   "source": [
    "plt.hist([np.linalg.norm(tp - dtp) for tp, dtp in zip(tip_positions, des_tip_positions)])"
   ]
  },
  {
   "cell_type": "code",
   "execution_count": 6,
   "id": "5808f1c6-be17-4f0f-8aae-fec957458df1",
   "metadata": {},
   "outputs": [
    {
     "data": {
      "text/plain": [
       "(array([13.,  0.,  9., 11.,  3.,  1.,  0.,  2.,  4.,  7.]),\n",
       " array([0.01488869, 0.03052265, 0.04615661, 0.06179057, 0.07742453,\n",
       "        0.09305849, 0.10869245, 0.12432641, 0.13996037, 0.15559432,\n",
       "        0.17122828]),\n",
       " <BarContainer object of 10 artists>)"
      ]
     },
     "execution_count": 6,
     "metadata": {},
     "output_type": "execute_result"
    },
    {
     "data": {
      "image/png": "[encoded data removed]",
      "text/plain": [
       "<Figure size 432x288 with 1 Axes>"
      ]
     },
     "metadata": {
      "needs_background": "light"
     },
     "output_type": "display_data"
    }
   ],
   "source": [
    "plt.hist([np.linalg.norm(tp - dtp) for tp, dtp in zip(tip_positions, des_tip_positions)])"
   ]
  },
  {
   "cell_type": "code",
   "execution_count": 4,
   "id": "e2fe9a9f-7622-4f33-8bec-79857d5e8eab",
   "metadata": {},
   "outputs": [
    {
     "data": {
      "text/plain": [
       "(array([20.,  1.,  8.,  8.,  0.,  0.,  1.,  5.,  4.,  3.]),\n",
       " array([0.01478285, 0.03154379, 0.04830473, 0.06506568, 0.08182662,\n",
       "        0.09858756, 0.1153485 , 0.13210945, 0.14887039, 0.16563133,\n",
       "        0.18239227]),\n",
       " <BarContainer object of 10 artists>)"
      ]
     },
     "execution_count": 4,
     "metadata": {},
     "output_type": "execute_result"
    },
    {
     "data": {
      "image/png": "[encoded data removed]",
      "text/plain": [
       "<Figure size 432x288 with 1 Axes>"
      ]
     },
     "metadata": {
      "needs_background": "light"
     },
     "output_type": "display_data"
    }
   ],
   "source": [
    "plt.hist([np.linalg.norm(tp - dtp) for tp, dtp in zip(tip_positions, des_tip_positions)])"
   ]
  }
 ],
 "metadata": {
  "kernelspec": {
   "display_name": "rrc",
   "language": "python",
   "name": "rrc"
  },
  "language_info": {
   "codemirror_mode": {
    "name": "ipython",
    "version": 3
   },
   "file_extension": ".py",
   "mimetype": "text/x-python",
   "name": "python",
   "nbconvert_exporter": "python",
   "pygments_lexer": "ipython3",
   "version": "3.6.9"
  }
 },
 "nbformat": 4,
 "nbformat_minor": 5
}
