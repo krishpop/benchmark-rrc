{
 "cells": [
  {
   "cell_type": "code",
   "execution_count": 1,
   "id": "8e9fd0eb-6608-4679-a033-33b85cf35d70",
   "metadata": {},
   "outputs": [
    {
     "name": "stdout",
     "output_type": "stream",
     "text": [
      "Importing module 'gym_38' (/scr-ssd/ksrini/Downloads/isaacgym/python/isaacgym/_bindings/linux-x86_64/gym_38.so)\n",
      "Setting GYM_USD_PLUG_INFO_PATH to /scr-ssd/ksrini/Downloads/isaacgym/python/isaacgym/_bindings/linux-x86_64/usd/plugInfo.json\n",
      "PyTorch version 1.9.1+cu102\n",
      "Device count 1\n",
      "/scr-ssd/ksrini/Downloads/isaacgym/python/isaacgym/_bindings/src/gymtorch\n",
      "Using /afs/cs.stanford.edu/u/ksrini/.cache/torch_extensions as PyTorch extensions root...\n",
      "Emitting ninja build file /afs/cs.stanford.edu/u/ksrini/.cache/torch_extensions/gymtorch/build.ninja...\n",
      "Building extension module gymtorch...\n",
      "Allowing ninja to set a default number of workers... (overridable by setting the environment variable MAX_JOBS=N)\n",
      "ninja: no work to do.\n",
      "Loading extension module gymtorch...\n",
      "WARNING - pyDR not installed. Domain Randomization functionality will not be available.\n"
     ]
    }
   ],
   "source": [
    "from leibnizgym.envs.trifinger import TrifingerEnv\n",
    "from isaacgym import gymtorch\n",
    "import torch"
   ]
  },
  {
   "cell_type": "code",
   "execution_count": 2,
   "id": "527ea739-a6d0-4755-bdd1-2124ca4d6a3b",
   "metadata": {
    "collapsed": true,
    "jupyter": {
     "outputs_hidden": true
    },
    "tags": []
   },
   "outputs": [
    {
     "name": "stdout",
     "output_type": "stream",
     "text": [
      "[INFO] [2021.10.26::10-09-47]: [env_base]: Environment configuration: \u001b[0m\n",
      "    seed: 0\n",
      "    num_instances: 128\n",
      "    spacing: 1.0\n",
      "    control_decimation: True\n",
      "    episode_length: 750\n",
      "    aggregate_mode: False\n",
      "    physics_engine: physx\n",
      "    sim: \n",
      "        dt: 0.02\n",
      "        substeps: 2\n",
      "        up_axis: z\n",
      "        gravity: [0.0, 0.0, -9.81]\n",
      "        num_client_threads: 0\n",
      "        use_gpu_pipeline: True\n",
      "        physx: \n",
      "            solver_type: 1\n",
      "            num_position_iterations: 4\n",
      "            num_velocity_iterations: 0\n",
      "            num_threads: 4\n",
      "            use_gpu: False\n",
      "            num_subscenes: 0\n",
      "            max_gpu_contact_pairs: 8388608\n",
      "        flex: \n",
      "            shape_collision_margin: 0.01\n",
      "            num_outer_iterations: 4\n",
      "            num_inner_iterations: 10\n",
      "    pydr: \n",
      "        activate: False\n",
      "        properties: \n",
      "            actions: \n",
      "                noise_operator: additive\n",
      "                distribution: \n",
      "                    type: gaussian\n",
      "                    stdev: [0.05, 0.05, 0.05, 0.05, 0.05, 0.05, 0.05, 0.05, 0.05]\n",
      "                distribution_correlated: \n",
      "                    type: gaussian\n",
      "                    stdev: [0.01, 0.01, 0.01, 0.01, 0.01, 0.01, 0.01, 0.01, 0.01]\n",
      "                schedule: \n",
      "                    type: linear\n",
      "                    sched_start: 50000000.0\n",
      "                    sched_end: 100000000.0\n",
      "            observations: \n",
      "                noise_operator: additive\n",
      "                distribution: \n",
      "                    type: gaussian\n",
      "                    stdev: [0.05, 0.05, 0.05, 0.05, 0.05, 0.05, 0.05, 0.05, 0.05, 0.05, 0.05, 0.05, 0.05, 0.05, 0.05, 0.05, 0.05, 0.05, 0.05, 0.05, 0.05, 0.05, 0.05, 0.05, 0.05, 0.05, 0.05, 0.05, 0.05, 0.05, 0.05, 0.05, 0.05, 0.05, 0.05, 0.05, 0.05, 0.05, 0.05, 0.05, 0.05]\n",
      "                distribution_correlated: \n",
      "                    type: gaussian\n",
      "                    stdev: [0.01, 0.01, 0.01, 0.01, 0.01, 0.01, 0.01, 0.01, 0.01, 0.01, 0.01, 0.01, 0.01, 0.01, 0.01, 0.01, 0.01, 0.01, 0.01, 0.01, 0.01, 0.01, 0.01, 0.01, 0.01, 0.01, 0.01, 0.01, 0.01, 0.01, 0.01, 0.01, 0.01, 0.01, 0.01, 0.01, 0.01, 0.01, 0.01, 0.01, 0.01]\n",
      "                schedule: \n",
      "                    type: linear\n",
      "                    sched_start: 50000000.0\n",
      "                    sched_end: 100000000.0\n",
      "    task_difficulty: 1\n",
      "    enable_ft_sensors: False\n",
      "    command_mode: torque\n",
      "    apply_safety_damping: True\n",
      "    asymmetric_obs: False\n",
      "    normalize_obs: True\n",
      "    normalize_action: True\n",
      "    reset_distribution: \n",
      "        robot_initial_state: \n",
      "            type: default\n",
      "            dof_pos_stddev: 0.4\n",
      "            dof_vel_stddev: 0.2\n",
      "        object_initial_state: \n",
      "            type: random\n",
      "    goal_movement: \n",
      "        rotation: \n",
      "            activate: False\n",
      "            rate_magnitude: 0.5\n",
      "    reward_terms: \n",
      "        finger_reach_object_rate: \n",
      "            activate: True\n",
      "            weight: -750\n",
      "            norm_p: 2\n",
      "        finger_move_penalty: \n",
      "            activate: True\n",
      "            weight: -0.1\n",
      "        object_dist: \n",
      "            activate: True\n",
      "            weight: 2000\n",
      "        object_rot: \n",
      "            activate: True\n",
      "            weight: 300\n",
      "        object_rot_delta: \n",
      "            activate: True\n",
      "            weight: -250\n",
      "        object_move: \n",
      "            activate: True\n",
      "            weight: -750\n",
      "    termination_conditions: \n",
      "        success: \n",
      "            activate: True\n",
      "            bonus: 5000.0\n",
      "            position_tolerance: 0.01\n",
      "            orientation_tolerance: 0.2\n",
      "----------------------------------------\n",
      "[INFO] [2021.10.26::10-09-47]: [env_base]: Observations: 41\u001b[0m\n",
      "    robot_q: 9\n",
      "    robot_u: 9\n",
      "    object_q: 7\n",
      "    object_q_des: 7\n",
      "    command: 9\n",
      "[INFO] [2021.10.26::10-09-47]: [env_base]: States: 0\u001b[0m\n",
      "[INFO] [2021.10.26::10-09-47]: [env_base]: Action: 9\u001b[0m\n",
      "    command: 9\n",
      "--------------------\n",
      "[INFO] [2021.10.26::10-09-49]: [env_base]: Simulation physics parameters: \n",
      "<isaacgym._bindings.linux-x86_64.gym_38.SimParams object at 0x7f18b17408f0>\u001b[0m\n",
      "[Warning] [carb.gym.plugin] useGpuPipeline is set, forcing GPU PhysX\n",
      "Not connected to PVD\n",
      "+++ Using GPU PhysX\n",
      "Physics Engine: PhysX\n",
      "Physics Device: cuda:0\n",
      "GPU Pipeline: enabled\n",
      "[INFO] [2021.10.26::10-09-52]: [trifinger_env]: Trifinger Robot Asset: \u001b[0m\n",
      "\t Number of bodies: 17\n",
      "\t Number of shapes: 15\n",
      "\t Number of dofs: 9\n",
      "\t Number of actuated dofs: 9\n",
      "[INFO] [2021.10.26::10-09-52]: [trifinger_env]: Trifinger Stage Asset: \u001b[0m\n",
      "\t Number of bodies: 1\n",
      "\t Number of shapes: 40\n",
      "[INFO] [2021.10.26::10-09-53]: [trifinger_env]: MDP Raw observation bounds\n",
      "\tLow: tensor([ -0.3300,   0.0000,  -2.7000,  -0.3300,   0.0000,  -2.7000,  -0.3300,\n",
      "          0.0000,  -2.7000, -10.0000, -10.0000, -10.0000, -10.0000, -10.0000,\n",
      "        -10.0000, -10.0000, -10.0000, -10.0000,  -0.3000,  -0.3000,   0.0000,\n",
      "         -1.0000,  -1.0000,  -1.0000,  -1.0000,  -0.3000,  -0.3000,   0.0000,\n",
      "         -1.0000,  -1.0000,  -1.0000,  -1.0000,  -1.0000,  -1.0000,  -1.0000,\n",
      "         -1.0000,  -1.0000,  -1.0000,  -1.0000,  -1.0000,  -1.0000],\n",
      "       device='cuda:0')\n",
      "\tHigh: tensor([ 1.0000,  1.5700,  0.0000,  1.0000,  1.5700,  0.0000,  1.0000,  1.5700,\n",
      "         0.0000, 10.0000, 10.0000, 10.0000, 10.0000, 10.0000, 10.0000, 10.0000,\n",
      "        10.0000, 10.0000,  0.3000,  0.3000,  0.3000,  1.0000,  1.0000,  1.0000,\n",
      "         1.0000,  0.3000,  0.3000,  0.3000,  1.0000,  1.0000,  1.0000,  1.0000,\n",
      "         1.0000,  1.0000,  1.0000,  1.0000,  1.0000,  1.0000,  1.0000,  1.0000,\n",
      "         1.0000], device='cuda:0')\u001b[0m\n",
      "[INFO] [2021.10.26::10-09-53]: [trifinger_env]: MDP Raw state bounds\n",
      "\tLow: tensor([])\n",
      "\tHigh: tensor([])\u001b[0m\n",
      "[INFO] [2021.10.26::10-09-53]: [trifinger_env]: MDP Raw action bounds\n",
      "\tLow: tensor([-0.3600, -0.3600, -0.3600, -0.3600, -0.3600, -0.3600, -0.3600, -0.3600,\n",
      "        -0.3600], device='cuda:0')\n",
      "\tHigh: tensor([0.3600, 0.3600, 0.3600, 0.3600, 0.3600, 0.3600, 0.3600, 0.3600, 0.3600],\n",
      "       device='cuda:0')\u001b[0m\n",
      "[INFO] [2021.10.26::10-09-53]: [trifinger_env]: Reward terms: \u001b[0m\n",
      "\t Reward name: finger_reach_object_rate, enable: True, weight: -750\n",
      "\t Reward name: finger_move_penalty, enable: True, weight: -0.1\n",
      "\t Reward name: object_dist, enable: True, weight: 2000\n",
      "\t Reward name: object_rot, enable: True, weight: 300\n",
      "\t Reward name: object_rot_delta, enable: True, weight: -250\n",
      "\t Reward name: object_move, enable: True, weight: -750\n"
     ]
    }
   ],
   "source": [
    "env_config = dict(num_instances=128,\n",
    "     aggregate_mode=False,\n",
    "     control_decimation=True,\n",
    "     command_mode='torque',\n",
    "     sim=dict(use_gpu_pipeline=True, physx=dict(use_gpu=False)))\n",
    "env = TrifingerEnv(config=env_config, device='cuda:0', verbose=True, visualize=False)"
   ]
  },
  {
   "cell_type": "code",
   "execution_count": 7,
   "id": "0b195d2d-df9f-4272-ba2e-75da7e2c2938",
   "metadata": {},
   "outputs": [],
   "source": [
    "Ji = env._gym.acquire_jacobian_tensor(env._sim, \"robot\")\n",
    "Ji_t = gymtorch.wrap_tensor(Ji)"
   ]
  },
  {
   "cell_type": "code",
   "execution_count": 8,
   "id": "bd32d154-6155-4b7c-b99b-8db816ae8e37",
   "metadata": {},
   "outputs": [],
   "source": [
    "def compute_torque(ftip_force):\n",
    "    env._gym.refresh_jacobian_tensors(env._sim)\n",
    "    torque = 0\n",
    "    for fid, frame_id in enumerate(env._fingertips_handles.values()):\n",
    "        Ji = Ji_t[:, frame_id - 1, :3]\n",
    "        Ji_T = Ji.transpose(1, 2)\n",
    "        F = ftip_force[:, 3 * fid: 3 * fid + 3]\n",
    "        torque += .5 * torch.matmul(Ji_T, F)\n",
    "    return torque"
   ]
  },
  {
   "cell_type": "code",
   "execution_count": 23,
   "id": "4ee06877-316f-4df0-91ee-bb70f842b97b",
   "metadata": {},
   "outputs": [],
   "source": [
    "def random_ftip_force():\n",
    "    ac = torch.rand(env.get_action_shape(), dtype=torch.float, device=env.device)\n",
    "    ac = ac.view(-1, 9, 1)\n",
    "    return compute_torque(ac)"
   ]
  },
  {
   "cell_type": "code",
   "execution_count": 14,
   "id": "28a60e28-88ae-416c-8c9c-38cf11d0fcc7",
   "metadata": {},
   "outputs": [
    {
     "data": {
      "text/plain": [
       "torch.Size([128, 9, 2])"
      ]
     },
     "execution_count": 14,
     "metadata": {},
     "output_type": "execute_result"
    }
   ],
   "source": [
    "env._dof_state.shape"
   ]
  },
  {
   "cell_type": "code",
   "execution_count": 17,
   "id": "79d2a98b-70b4-4f93-818c-5884859e6d83",
   "metadata": {},
   "outputs": [],
   "source": [
    "action = 2 * torch.rand(env.get_action_shape(), dtype=torch.float, device=env.device) - 1"
   ]
  },
  {
   "cell_type": "code",
   "execution_count": 18,
   "id": "f184fea6-0ded-4026-a928-589cb80eacc6",
   "metadata": {},
   "outputs": [],
   "source": [
    "_, _, _, _ = env.step(action)"
   ]
  },
  {
   "cell_type": "code",
   "execution_count": 20,
   "id": "ee81ee6d-806f-4b62-8ed5-5be68ffed813",
   "metadata": {},
   "outputs": [],
   "source": [
    "link_dict = env._gym.get_asset_rigid_body_dict(env._gym_assets['robot'])\n",
    "dof_dict = env._gym.get_asset_dof_dict(env._gym_assets['robot'])"
   ]
  },
  {
   "cell_type": "code",
   "execution_count": 25,
   "id": "90843356-1978-4ab9-85fd-ac4e8d7f5a63",
   "metadata": {},
   "outputs": [
    {
     "data": {
      "text/plain": [
       "True"
      ]
     },
     "execution_count": 25,
     "metadata": {},
     "output_type": "execute_result"
    }
   ],
   "source": [
    "env._gym.refresh_jacobian_tensors(env._sim)"
   ]
  },
  {
   "cell_type": "code",
   "execution_count": 29,
   "id": "d6b4db39-a5f4-4301-a109-10099218ca79",
   "metadata": {},
   "outputs": [
    {
     "data": {
      "text/plain": [
       "OrderedDict([('finger_tip_link_0', 6),\n",
       "             ('finger_tip_link_120', 11),\n",
       "             ('finger_tip_link_240', 16)])"
      ]
     },
     "execution_count": 29,
     "metadata": {},
     "output_type": "execute_result"
    }
   ],
   "source": [
    "env._fingertips_handles"
   ]
  },
  {
   "cell_type": "code",
   "execution_count": 24,
   "id": "1bab8764-9c7b-419c-9c1b-3eee4f51a4c8",
   "metadata": {},
   "outputs": [
    {
     "data": {
      "text/plain": [
       "{'base_link': 0,\n",
       " 'finger_base_link_0': 2,\n",
       " 'finger_base_link_120': 7,\n",
       " 'finger_base_link_240': 12,\n",
       " 'finger_lower_link_0': 5,\n",
       " 'finger_lower_link_120': 10,\n",
       " 'finger_lower_link_240': 15,\n",
       " 'finger_middle_link_0': 4,\n",
       " 'finger_middle_link_120': 9,\n",
       " 'finger_middle_link_240': 14,\n",
       " 'finger_tip_link_0': 6,\n",
       " 'finger_tip_link_120': 11,\n",
       " 'finger_tip_link_240': 16,\n",
       " 'finger_upper_link_0': 3,\n",
       " 'finger_upper_link_120': 8,\n",
       " 'finger_upper_link_240': 13,\n",
       " 'upper_holder_link': 1}"
      ]
     },
     "execution_count": 24,
     "metadata": {},
     "output_type": "execute_result"
    }
   ],
   "source": [
    "link_dict"
   ]
  }
 ],
 "metadata": {
  "kernelspec": {
   "display_name": "ig-rlgpu",
   "language": "python",
   "name": "ig-rlgpu"
  },
  "language_info": {
   "codemirror_mode": {
    "name": "ipython",
    "version": 3
   },
   "file_extension": ".py",
   "mimetype": "text/x-python",
   "name": "python",
   "nbconvert_exporter": "python",
   "pygments_lexer": "ipython3",
   "version": "3.8.10"
  }
 },
 "nbformat": 4,
 "nbformat_minor": 5
}
