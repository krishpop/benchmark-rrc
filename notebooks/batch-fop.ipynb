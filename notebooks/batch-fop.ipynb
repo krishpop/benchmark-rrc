{
 "cells": [
  {
   "cell_type": "code",
   "execution_count": 7,
   "id": "2a37f0de-9c9d-41d0-8a4a-a04ffcba13ca",
   "metadata": {},
   "outputs": [],
   "source": [
    "import multiprocessing as mp\n",
    "import numpy as np\n",
    "import torch\n",
    "\n",
    "from scipy.spatial.transform import Rotation\n",
    "from rrc.env import fop, make_env\n",
    "from trifinger_simulation.tasks.move_cube import Pose"
   ]
  },
  {
   "cell_type": "code",
   "execution_count": 2,
   "id": "81cc6c82-fd8d-4925-aaec-120cc744f13c",
   "metadata": {},
   "outputs": [
    {
     "name": "stderr",
     "output_type": "stream",
     "text": [
      "/scr1/.pyenv/versions/miniconda3-latest/envs/rlgpu/lib/python3.7/site-packages/gym/logger.py:30: UserWarning: \u001b[33mWARN: Box bound precision lowered by casting to float32\u001b[0m\n",
      "  warnings.warn(colorize('%s: %s'%('WARN', msg % args), 'yellow'))\n",
      "/scr-ssd/ksrini/trifinger_simulation/python/trifinger_simulation/trifinger_platform.py:293: UserWarning: Cameras are not enabled, so images in the camera observation are not initialized.  Create `TriFingerPlatform` with `enable_cameras=True` to get rendered camera images.\n",
      "  \"Cameras are not enabled, so images in the camera observation\"\n"
     ]
    }
   ],
   "source": [
    "env = make_env.env_fn_generator(diff=1, env_cls='robot_wrench_env', flatten_goal=True)()\n",
    "obs = env.reset()\n",
    "obs, r, d ,i = env.step(np.zeros(6))"
   ]
  },
  {
   "cell_type": "code",
   "execution_count": 3,
   "id": "855adf19-27cf-42af-828b-e53f0e6e4f8f",
   "metadata": {},
   "outputs": [],
   "source": [
    "cp_wf = env.get_cp_wf_list(None, obj_pose=Pose(obs['achieved_goal'][:3], obs['achieved_goal'][3:]), use_actual_cp=True)\n",
    "cp_of = env.get_cp_of_list(None, obj_pose=Pose(obs['achieved_goal'][:3], obs['achieved_goal'][3:]), use_actual_cp=True)\n",
    "\n",
    "cp_v = []\n",
    "for cpwf in cp_wf:\n",
    "    if cpwf is None:\n",
    "        cp_v.append(np.zeros(7))\n",
    "    else:\n",
    "        cp_v.append(np.concatenate(cpwf))\n",
    "cp_v = np.array(cp_v)"
   ]
  },
  {
   "cell_type": "code",
   "execution_count": 4,
   "id": "b51a2fad-435f-4d9c-872b-1723aad3750c",
   "metadata": {
    "tags": []
   },
   "outputs": [
    {
     "ename": "NameError",
     "evalue": "name 'cp_list' is not defined",
     "output_type": "error",
     "traceback": [
      "\u001b[0;31m---------------------------------------------------------------------------\u001b[0m",
      "\u001b[0;31mNameError\u001b[0m                                 Traceback (most recent call last)",
      "\u001b[0;32m<timed exec>\u001b[0m in \u001b[0;36m<module>\u001b[0;34m\u001b[0m\n",
      "\u001b[0;31mNameError\u001b[0m: name 'cp_list' is not defined"
     ]
    }
   ],
   "source": [
    "%time x=np.apply_along_axis(env.fop.get_grasp_matrix, 1, cp_list)"
   ]
  },
  {
   "cell_type": "code",
   "execution_count": 12,
   "id": "cbac7447-1c78-442e-884c-9d6ed54ffc97",
   "metadata": {},
   "outputs": [],
   "source": [
    "acscale = np.concatenate([env.force_factor, [env.torque_factor]*3])"
   ]
  },
  {
   "cell_type": "code",
   "execution_count": 13,
   "id": "895f63c5-1d58-4320-834c-774e5de05d5b",
   "metadata": {
    "tags": []
   },
   "outputs": [
    {
     "ename": "ValueError",
     "evalue": "Two or more parameters have different dtypes. Expected parameter 1 to have dtype torch.float32 but got dtype torch.float64.",
     "output_type": "error",
     "traceback": [
      "\u001b[0;31m---------------------------------------------------------------------------\u001b[0m",
      "\u001b[0;31mValueError\u001b[0m                                Traceback (most recent call last)",
      "\u001b[0;32m<timed exec>\u001b[0m in \u001b[0;36m<module>\u001b[0;34m\u001b[0m\n",
      "\u001b[0;32m/scr-ssd/ksrini/benchmark-rrc/rrc/env/fop.py\u001b[0m in \u001b[0;36m__call__\u001b[0;34m(self, des_wrench_t, cp_list)\u001b[0m\n\u001b[1;32m    296\u001b[0m         \u001b[0;32mif\u001b[0m \u001b[0;32mnot\u001b[0m \u001b[0mself\u001b[0m\u001b[0;34m.\u001b[0m\u001b[0minitialized\u001b[0m\u001b[0;34m:\u001b[0m\u001b[0;34m\u001b[0m\u001b[0;34m\u001b[0m\u001b[0m\n\u001b[1;32m    297\u001b[0m             \u001b[0mself\u001b[0m\u001b[0;34m.\u001b[0m\u001b[0msetup_cvxpy_layer\u001b[0m\u001b[0;34m(\u001b[0m\u001b[0;34m)\u001b[0m\u001b[0;34m\u001b[0m\u001b[0;34m\u001b[0m\u001b[0m\n\u001b[0;32m--> 298\u001b[0;31m         \u001b[0;32mreturn\u001b[0m \u001b[0mself\u001b[0m\u001b[0;34m.\u001b[0m\u001b[0mrun_fop\u001b[0m\u001b[0;34m(\u001b[0m\u001b[0mdes_wrench_t\u001b[0m\u001b[0;34m,\u001b[0m \u001b[0mcp_list\u001b[0m\u001b[0;34m)\u001b[0m\u001b[0;34m\u001b[0m\u001b[0;34m\u001b[0m\u001b[0m\n\u001b[0m\u001b[1;32m    299\u001b[0m \u001b[0;34m\u001b[0m\u001b[0m\n\u001b[1;32m    300\u001b[0m     \u001b[0;32mdef\u001b[0m \u001b[0mrun_fop\u001b[0m\u001b[0;34m(\u001b[0m\u001b[0mself\u001b[0m\u001b[0;34m,\u001b[0m \u001b[0mdes_wrench_t\u001b[0m\u001b[0;34m,\u001b[0m \u001b[0mcp_list\u001b[0m\u001b[0;34m)\u001b[0m\u001b[0;34m:\u001b[0m\u001b[0;34m\u001b[0m\u001b[0;34m\u001b[0m\u001b[0m\n",
      "\u001b[0;32m/scr-ssd/ksrini/benchmark-rrc/rrc/env/fop.py\u001b[0m in \u001b[0;36mrun_fop\u001b[0;34m(self, des_wrench_t, cp_list)\u001b[0m\n\u001b[1;32m    308\u001b[0m         \u001b[0minputs\u001b[0m \u001b[0;34m=\u001b[0m \u001b[0;34m[\u001b[0m\u001b[0mG_t\u001b[0m\u001b[0;34m,\u001b[0m \u001b[0mdes_wrench_t\u001b[0m\u001b[0;34m,\u001b[0m \u001b[0mtarget_n_t\u001b[0m\u001b[0;34m]\u001b[0m\u001b[0;34m\u001b[0m\u001b[0;34m\u001b[0m\u001b[0m\n\u001b[1;32m    309\u001b[0m         \u001b[0;32mtry\u001b[0m\u001b[0;34m:\u001b[0m\u001b[0;34m\u001b[0m\u001b[0;34m\u001b[0m\u001b[0m\n\u001b[0;32m--> 310\u001b[0;31m             \u001b[0;34m(\u001b[0m\u001b[0mbalance_force\u001b[0m\u001b[0;34m,\u001b[0m\u001b[0;34m)\u001b[0m \u001b[0;34m=\u001b[0m \u001b[0mself\u001b[0m\u001b[0;34m.\u001b[0m\u001b[0mpolicy\u001b[0m\u001b[0;34m(\u001b[0m\u001b[0;34m*\u001b[0m\u001b[0minputs\u001b[0m\u001b[0;34m)\u001b[0m\u001b[0;34m\u001b[0m\u001b[0;34m\u001b[0m\u001b[0m\n\u001b[0m\u001b[1;32m    311\u001b[0m             \u001b[0;32mreturn\u001b[0m \u001b[0mbalance_force\u001b[0m\u001b[0;34m\u001b[0m\u001b[0;34m\u001b[0m\u001b[0m\n\u001b[1;32m    312\u001b[0m         \u001b[0;32mexcept\u001b[0m \u001b[0mSolverError\u001b[0m\u001b[0;34m:\u001b[0m\u001b[0;34m\u001b[0m\u001b[0;34m\u001b[0m\u001b[0m\n",
      "\u001b[0;32m/scr1/.pyenv/versions/miniconda3-latest/envs/rlgpu/lib/python3.7/site-packages/torch/nn/modules/module.py\u001b[0m in \u001b[0;36m_call_impl\u001b[0;34m(self, *input, **kwargs)\u001b[0m\n\u001b[1;32m    887\u001b[0m             \u001b[0mresult\u001b[0m \u001b[0;34m=\u001b[0m \u001b[0mself\u001b[0m\u001b[0;34m.\u001b[0m\u001b[0m_slow_forward\u001b[0m\u001b[0;34m(\u001b[0m\u001b[0;34m*\u001b[0m\u001b[0minput\u001b[0m\u001b[0;34m,\u001b[0m \u001b[0;34m**\u001b[0m\u001b[0mkwargs\u001b[0m\u001b[0;34m)\u001b[0m\u001b[0;34m\u001b[0m\u001b[0;34m\u001b[0m\u001b[0m\n\u001b[1;32m    888\u001b[0m         \u001b[0;32melse\u001b[0m\u001b[0;34m:\u001b[0m\u001b[0;34m\u001b[0m\u001b[0;34m\u001b[0m\u001b[0m\n\u001b[0;32m--> 889\u001b[0;31m             \u001b[0mresult\u001b[0m \u001b[0;34m=\u001b[0m \u001b[0mself\u001b[0m\u001b[0;34m.\u001b[0m\u001b[0mforward\u001b[0m\u001b[0;34m(\u001b[0m\u001b[0;34m*\u001b[0m\u001b[0minput\u001b[0m\u001b[0;34m,\u001b[0m \u001b[0;34m**\u001b[0m\u001b[0mkwargs\u001b[0m\u001b[0;34m)\u001b[0m\u001b[0;34m\u001b[0m\u001b[0;34m\u001b[0m\u001b[0m\n\u001b[0m\u001b[1;32m    890\u001b[0m         for hook in itertools.chain(\n\u001b[1;32m    891\u001b[0m                 \u001b[0m_global_forward_hooks\u001b[0m\u001b[0;34m.\u001b[0m\u001b[0mvalues\u001b[0m\u001b[0;34m(\u001b[0m\u001b[0;34m)\u001b[0m\u001b[0;34m,\u001b[0m\u001b[0;34m\u001b[0m\u001b[0;34m\u001b[0m\u001b[0m\n",
      "\u001b[0;32m/scr1/.pyenv/versions/miniconda3-latest/envs/rlgpu/lib/python3.7/site-packages/cvxpylayers/torch/cvxpylayer.py\u001b[0m in \u001b[0;36mforward\u001b[0;34m(self, solver_args, *params)\u001b[0m\n\u001b[1;32m    150\u001b[0m             \u001b[0minfo\u001b[0m\u001b[0;34m=\u001b[0m\u001b[0minfo\u001b[0m\u001b[0;34m,\u001b[0m\u001b[0;34m\u001b[0m\u001b[0;34m\u001b[0m\u001b[0m\n\u001b[1;32m    151\u001b[0m         )\n\u001b[0;32m--> 152\u001b[0;31m         \u001b[0msol\u001b[0m \u001b[0;34m=\u001b[0m \u001b[0mf\u001b[0m\u001b[0;34m(\u001b[0m\u001b[0;34m*\u001b[0m\u001b[0mparams\u001b[0m\u001b[0;34m)\u001b[0m\u001b[0;34m\u001b[0m\u001b[0;34m\u001b[0m\u001b[0m\n\u001b[0m\u001b[1;32m    153\u001b[0m         \u001b[0mself\u001b[0m\u001b[0;34m.\u001b[0m\u001b[0minfo\u001b[0m \u001b[0;34m=\u001b[0m \u001b[0minfo\u001b[0m\u001b[0;34m\u001b[0m\u001b[0;34m\u001b[0m\u001b[0m\n\u001b[1;32m    154\u001b[0m         \u001b[0;32mreturn\u001b[0m \u001b[0msol\u001b[0m\u001b[0;34m\u001b[0m\u001b[0;34m\u001b[0m\u001b[0m\n",
      "\u001b[0;32m/scr1/.pyenv/versions/miniconda3-latest/envs/rlgpu/lib/python3.7/site-packages/cvxpylayers/torch/cvxpylayer.py\u001b[0m in \u001b[0;36mforward\u001b[0;34m(ctx, *params)\u001b[0m\n\u001b[1;32m    191\u001b[0m                         \u001b[0;34m\"Expected parameter %d to have dtype %s but \"\u001b[0m\u001b[0;34m\u001b[0m\u001b[0;34m\u001b[0m\u001b[0m\n\u001b[1;32m    192\u001b[0m                         \u001b[0;34m\"got dtype %s.\"\u001b[0m \u001b[0;34m%\u001b[0m\u001b[0;34m\u001b[0m\u001b[0;34m\u001b[0m\u001b[0m\n\u001b[0;32m--> 193\u001b[0;31m                         \u001b[0;34m(\u001b[0m\u001b[0mi\u001b[0m\u001b[0;34m,\u001b[0m \u001b[0mstr\u001b[0m\u001b[0;34m(\u001b[0m\u001b[0mctx\u001b[0m\u001b[0;34m.\u001b[0m\u001b[0mdtype\u001b[0m\u001b[0;34m)\u001b[0m\u001b[0;34m,\u001b[0m \u001b[0mstr\u001b[0m\u001b[0;34m(\u001b[0m\u001b[0mp\u001b[0m\u001b[0;34m.\u001b[0m\u001b[0mdtype\u001b[0m\u001b[0;34m)\u001b[0m\u001b[0;34m)\u001b[0m\u001b[0;34m\u001b[0m\u001b[0;34m\u001b[0m\u001b[0m\n\u001b[0m\u001b[1;32m    194\u001b[0m                     )\n\u001b[1;32m    195\u001b[0m                 \u001b[0;32mif\u001b[0m \u001b[0mp\u001b[0m\u001b[0;34m.\u001b[0m\u001b[0mdevice\u001b[0m \u001b[0;34m!=\u001b[0m \u001b[0mctx\u001b[0m\u001b[0;34m.\u001b[0m\u001b[0mdevice\u001b[0m\u001b[0;34m:\u001b[0m\u001b[0;34m\u001b[0m\u001b[0;34m\u001b[0m\u001b[0m\n",
      "\u001b[0;31mValueError\u001b[0m: Two or more parameters have different dtypes. Expected parameter 1 to have dtype torch.float32 but got dtype torch.float64."
     ]
    }
   ],
   "source": [
    "%%time \n",
    "n = 2048\n",
    "cp_list = np.array([cp_v.flatten() for i in range(n)])\n",
    "des_wrench_t = torch.tensor([env.action_space.sample().astype('float32') * acscale for _ in range(n)]).to('cuda:0')\n",
    "lamb = env.fop(des_wrench_t, cp_list)"
   ]
  },
  {
   "cell_type": "code",
   "execution_count": 6,
   "id": "40a9a177-5f4e-4368-af3f-b2c2a89dfbee",
   "metadata": {},
   "outputs": [
    {
     "data": {
      "text/plain": [
       "torch.Size([2048, 9])"
      ]
     },
     "execution_count": 6,
     "metadata": {},
     "output_type": "execute_result"
    }
   ],
   "source": [
    "lamb."
   ]
  },
  {
   "cell_type": "code",
   "execution_count": 5,
   "id": "62e29826-2992-4c42-ba7c-ddf85c59f198",
   "metadata": {},
   "outputs": [
    {
     "data": {
      "text/plain": [
       "torch.Size([5, 9])"
      ]
     },
     "execution_count": 5,
     "metadata": {},
     "output_type": "execute_result"
    }
   ],
   "source": [
    "lamb.shape"
   ]
  },
  {
   "cell_type": "code",
   "execution_count": 4,
   "id": "948c7e52-2427-4a76-bd15-b3b347512d91",
   "metadata": {},
   "outputs": [],
   "source": [
    "cp_wf = [(np.array([-0.04190509,  0.00978352,  0.03772653]),\n",
    "np.array([ 7.71566743e-06,  6.29104656e-06,  7.75028033e-01, -6.31926853e-01])),\n",
    " (np.array([-0.013862  , -0.0309698 ,  0.03706019]),\n",
    "  np.array([ 2.23345856e-05, -2.27164750e-06,  9.94867341e-01,  1.01187815e-01])),\n",
    " (np.array([-0.07742409, -0.01736268,  0.03893098]),\n",
    "  np.array([-2.27164750e-06, -2.23345856e-05,  1.01187815e-01, -9.94867341e-01]))]\n"
   ]
  },
  {
   "cell_type": "code",
   "execution_count": 8,
   "id": "8de6dded-85f6-47b1-b3a7-04c99d086c4b",
   "metadata": {},
   "outputs": [
    {
     "data": {
      "text/plain": [
       "(3, 7)"
      ]
     },
     "execution_count": 8,
     "metadata": {},
     "output_type": "execute_result"
    }
   ],
   "source": [
    "np.array([np.concatenate(cpwf) for cpwf in cp_wf]).shape"
   ]
  },
  {
   "cell_type": "code",
   "execution_count": 8,
   "id": "33404042-cdb4-46c3-90c7-04660b185ac2",
   "metadata": {},
   "outputs": [],
   "source": [
    "R_o_2_wf = Rotation.from_quat(obs['achieved_goal'][3:])\n",
    "cp_list = []\n",
    "for cp in cp_of:\n",
    "    if cp is not None:\n",
    "        c_pos, c_ori = cp\n",
    "        c_pos_wf = R_o_2_wf.as_matrix() @ c_pos\n",
    "        c_ori_wf = R_o_2_wf * Rotation.from_quat(c_ori)\n",
    "        c_ori_wf = c_ori_wf.as_quat()\n",
    "        cp_list.append((c_pos_wf, c_ori_wf))\n",
    "    else:\n",
    "        cp_list.append(None)"
   ]
  },
  {
   "cell_type": "markdown",
   "id": "a589c530-c352-449c-be8b-13c325ce7ba4",
   "metadata": {},
   "source": [
    "```python\n",
    "        if use_actual_cp and self._current_contact_pos is not None:\n",
    "            R_o_2_wf = Rotation.from_quat(obj_pose.orientation)\n",
    "            R_w_2_of = R_o_2_wf.inv().as_matrix()\n",
    "            flip_z = Rotation.from_rotvec([0, 0, np.pi]).as_matrix()\n",
    "            for pos_wf, ori in zip(\n",
    "                self._current_contact_pos, self._current_contact_ori\n",
    "            ):\n",
    "                if ori is None:\n",
    "                    cp_list.append(None)\n",
    "                else:\n",
    "                    cp_quat = Rotation.from_matrix(R_w_2_of @ flip_z @ ori).as_quat()\n",
    "                    R = Rotation.from_quat(obj_pose.orientation) * Rotation.from_quat(\n",
    "                        cp_quat\n",
    "                    )\n",
    "                    quat_cp_2_w = R.as_quat()\n",
    "                    cp_list.append((pos_wf, quat_cp_2_w))\n",
    "        else:\n",
    "            R_o_2_wf = Rotation.from_quat(obj_pose.orientation)\n",
    "            for cp_param in cp_params:\n",
    "                if cp_param is not None:\n",
    "                    cp_of = c_utils.get_cp_of_from_cp_param(cp_param)\n",
    "                    pos_wf = c_utils.get_wf_from_of(cp_of.pos_of, obj_pose)\n",
    "                    R = R_o_2_wf * Rotation.from_quat(cp_of.quat_of)\n",
    "                    quat_cp_2_w = R.as_quat()\n",
    "                    # pos_wf = R_o_2_wf.as_matrix() @ cp_of.pos_of\n",
    "                    cp_list.append((pos_wf, quat_cp_2_w))\n",
    "```"
   ]
  },
  {
   "cell_type": "code",
   "execution_count": 9,
   "id": "39699a02-e220-4826-8f1a-b4d389bcd0c2",
   "metadata": {},
   "outputs": [
    {
     "data": {
      "text/plain": [
       "[(array([-0.04189374,  0.00980485, -0.59420026]),\n",
       "  array([ 7.71566743e-06,  6.29104656e-06,  7.75028033e-01, -6.31926853e-01])),\n",
       " (array([-0.01385064, -0.03094847, -0.5948666 ]),\n",
       "  array([ 2.23345856e-05, -2.27164750e-06,  9.94867341e-01,  1.01187815e-01])),\n",
       " (array([-0.07741273, -0.01734135, -0.5929958 ]),\n",
       "  array([-2.27164750e-06, -2.23345856e-05,  1.01187815e-01, -9.94867341e-01]))]"
      ]
     },
     "execution_count": 9,
     "metadata": {},
     "output_type": "execute_result"
    }
   ],
   "source": [
    "cp_list"
   ]
  },
  {
   "cell_type": "code",
   "execution_count": 10,
   "id": "89da7c98-ced2-418b-b76c-af5070b9e824",
   "metadata": {},
   "outputs": [
    {
     "name": "stdout",
     "output_type": "stream",
     "text": [
      "[-0.04189374  0.00980485 -0.59420026]\n",
      "[-0.01385064 -0.03094847 -0.5948666 ]\n",
      "[-0.07741273 -0.01734135 -0.5929958 ]\n"
     ]
    }
   ],
   "source": [
    "prob = fop.BatchForceOptProblem()\n",
    "G2 = prob.get_grasp_matrix(cp_list)"
   ]
  },
  {
   "cell_type": "code",
   "execution_count": 11,
   "id": "7d38d4f1-c845-43bd-ae1d-624d3b61bf7c",
   "metadata": {},
   "outputs": [
    {
     "data": {
      "text/plain": [
       "array([[ True,  True,  True,  True,  True,  True,  True,  True,  True],\n",
       "       [ True,  True,  True,  True,  True,  True,  True,  True,  True],\n",
       "       [ True,  True,  True,  True,  True,  True,  True,  True,  True],\n",
       "       [ True,  True,  True,  True,  True,  True,  True,  True,  True],\n",
       "       [ True,  True,  True,  True,  True,  True,  True,  True,  True],\n",
       "       [ True,  True,  True,  True,  True,  True,  True,  True,  True]])"
      ]
     },
     "execution_count": 11,
     "metadata": {},
     "output_type": "execute_result"
    }
   ],
   "source": [
    "G == G2"
   ]
  },
  {
   "cell_type": "code",
   "execution_count": null,
   "id": "daec8927-1b06-4d22-a032-8fab0c1aad17",
   "metadata": {},
   "outputs": [],
   "source": [
    "op = obs['achieved_goal']\n",
    "obj_pose = np.asarray([op for _ in range(10)])\n",
    "cp_wf = [cp_wf for _ in range(10)]"
   ]
  },
  {
   "cell_type": "code",
   "execution_count": 41,
   "id": "0b7647d7-cd8d-4a4f-b8b3-7a6e506b78d3",
   "metadata": {},
   "outputs": [
    {
     "data": {
      "text/plain": [
       "[[0.02326169384260848, 0.06405488240915017, 0.04545479707254271],\n",
       " [0.029158603370715852, -0.018415214062422455, 0.04492667906354321],\n",
       " [-0.04664714912920895, 0.0026628426942095426, 0.0449847631644697]]"
      ]
     },
     "execution_count": 41,
     "metadata": {},
     "output_type": "execute_result"
    }
   ],
   "source": [
    "env.pinocchio_utils.forward_kinematics(env.unwrapped.prev_observation['observation']['position'])"
   ]
  },
  {
   "cell_type": "code",
   "execution_count": 42,
   "id": "0e8c8ab6-1db1-463a-a1f7-1029860dd150",
   "metadata": {},
   "outputs": [
    {
     "data": {
      "text/plain": [
       "[array([0.02032874, 0.05563401, 0.85349421]),\n",
       " array([ 0.02290265, -0.01268787,  0.85237941]),\n",
       " array([-0.03887879,  0.00640975,  0.85346884])]"
      ]
     },
     "execution_count": 42,
     "metadata": {},
     "output_type": "execute_result"
    }
   ],
   "source": [
    "[x[0] for x in cp_wf[0][0]]"
   ]
  },
  {
   "cell_type": "code",
   "execution_count": 19,
   "id": "9e7c9836-7a64-4631-88e3-af67da4697ea",
   "metadata": {},
   "outputs": [],
   "source": [
    "env.close()"
   ]
  },
  {
   "cell_type": "code",
   "execution_count": 1,
   "id": "d072d3ac-89bb-480f-980a-7c0061d08ad8",
   "metadata": {},
   "outputs": [],
   "source": [
    "import cvxpy as cp\n",
    "import torch\n",
    "from cvxpylayers.torch import CvxpyLayer\n",
    "\n",
    "n, m = 2, 3\n",
    "x = cp.Variable(n)\n",
    "A = cp.Parameter((m, n))\n",
    "b = cp.Parameter(m)\n",
    "constraints = [x >= 0]\n",
    "objective = cp.Minimize(0.5 * cp.pnorm(A @ x - b, p=1))\n",
    "problem = cp.Problem(objective, constraints)\n",
    "assert problem.is_dpp()\n",
    "\n",
    "cvxpylayer = CvxpyLayer(problem, parameters=[A, b], variables=[x])\n",
    "bs = 128\n",
    "A_tch = torch.randn(bs, m, n, requires_grad=True)\n",
    "b_tch = torch.randn(bs, m, requires_grad=True)\n",
    "\n",
    "# solve the problem\n",
    "solution, = cvxpylayer(A_tch, b_tch)\n",
    "\n",
    "# compute the gradient of the sum of the solution with respect to A, b\n",
    "solution.sum().backward()"
   ]
  }
 ],
 "metadata": {
  "kernelspec": {
   "display_name": "Python 3 (ipykernel)",
   "language": "python",
   "name": "python3"
  },
  "language_info": {
   "codemirror_mode": {
    "name": "ipython",
    "version": 3
   },
   "file_extension": ".py",
   "mimetype": "text/x-python",
   "name": "python",
   "nbconvert_exporter": "python",
   "pygments_lexer": "ipython3",
   "version": "3.7.10"
  }
 },
 "nbformat": 4,
 "nbformat_minor": 5
}
